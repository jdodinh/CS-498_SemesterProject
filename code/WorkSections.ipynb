{
 "cells": [
  {
   "cell_type": "markdown",
   "source": [
    "# $\\mathbf{\\{0,1\\}}$ - Integer Programming with Complete Constraint Matrices"
   ],
   "metadata": {
    "collapsed": false
   }
  },
  {
   "cell_type": "markdown",
   "source": [
    "## Random Informed Guesses"
   ],
   "metadata": {
    "collapsed": false,
    "pycharm": {
     "name": "#%% md\n"
    }
   }
  },
  {
   "cell_type": "markdown",
   "source": [
    "We begin by enumerating (given an integer $m$) all possible linear combinations on the columns of the complete matrix. Based on those, we try to filter the ones that are withing the ranges:\n",
    "* $\\mathbf{1} \\cdot 2^{m-2} \\leq \\mathbf{b} \\leq \\mathbf{1} \\cdot  2^{m-1}$\n",
    "* $\\mathbf{1} \\cdot 2^{m-3} \\leq \\mathbf{b} \\leq \\mathbf{1} \\cdot  2^{m-2}$\n",
    "* $\\mathbf{1} \\cdot 2^{m-4} \\leq \\mathbf{b} \\leq \\mathbf{3} \\cdot  2^{m-2}$\n",
    "* $\\vdots$"
   ],
   "metadata": {
    "collapsed": false,
    "pycharm": {
     "name": "#%% md\n"
    }
   }
  },
  {
   "cell_type": "markdown",
   "source": [],
   "metadata": {
    "collapsed": false,
    "pycharm": {
     "name": "#%% md\n"
    }
   }
  },
  {
   "cell_type": "code",
   "execution_count": 1,
   "outputs": [],
   "source": [
    "from helpers import *\n",
    "from tqdm import tqdm\n",
    "import numpy as np\n",
    "import pickle"
   ],
   "metadata": {
    "collapsed": false,
    "pycharm": {
     "name": "#%%\n"
    }
   }
  },
  {
   "cell_type": "code",
   "execution_count": 2,
   "outputs": [],
   "source": [
    "ranges_5 = {}\n",
    "m = 5\n",
    "for i in range(16):\n",
    "    pickle_in = open(\"ComputationalResults/ranges\"+str(5)+\"/ranges\"+str(m)+\"_\"+str(i)+\".pkl\", 'rb')\n",
    "    d: dict = pickle.load(pickle_in)\n",
    "    if i == 0:\n",
    "        ranges_5 = d\n",
    "    else:\n",
    "        for key in d.keys():\n",
    "            ranges_5[key] += d[key]\n",
    "\n",
    "with open(\"ComputationalResults/ranges\"+str(5)+\"/ranges\"+str(m)+\".pkl\", 'wb') as f:\n",
    "    pickle.dump(ranges_5, f)\n",
    "    f.close()\n",
    "\n"
   ],
   "metadata": {
    "collapsed": false,
    "pycharm": {
     "name": "#%%\n"
    }
   }
  },
  {
   "cell_type": "markdown",
   "source": [],
   "metadata": {
    "collapsed": false
   }
  },
  {
   "cell_type": "markdown",
   "source": [
    "Fractionality depends on the determinant of the matrix because of Kramer's rule"
   ],
   "metadata": {
    "collapsed": false,
    "pycharm": {
     "name": "#%% md\n"
    }
   }
  },
  {
   "cell_type": "markdown",
   "source": [],
   "metadata": {
    "collapsed": false,
    "pycharm": {
     "name": "#%% md\n"
    }
   }
  },
  {
   "cell_type": "code",
   "execution_count": null,
   "outputs": [],
   "source": [],
   "metadata": {
    "collapsed": false,
    "pycharm": {
     "name": "#%%\n"
    }
   }
  },
  {
   "cell_type": "markdown",
   "source": [
    "## Claims & Intuitions"
   ],
   "metadata": {
    "collapsed": false,
    "pycharm": {
     "name": "#%% md\n"
    }
   }
  },
  {
   "cell_type": "markdown",
   "source": [
    "$\\text{\\bf Claim}$: If a right hand side $\\mathbf{b} = (b_1, \\dots, b_m)$ is feasible then $\\max_i\\{b_i\\}-\\min_i\\{b_i\\} \\leq 2^{m-2}$\n",
    "\n",
    "$\\text{\\bf Proof}$: Without loss of generality, assume that $\\mathbf{b}$ is sorted. We claim, that if $\\mathbf{b}$ is a feasible right hand side, then $b_1-b_m \\leq 2^{m-2}$.\n",
    "\n",
    "Suppose for the sake of contradiction that this is not the case. Then $b_1-b_m > 2^{m-2}$, and in particular we have that $b_1 > 2^{m-2}$.\n",
    "\n",
    "Let $\\mathbf{x}$ be a solution for $\\mathbf{Ax} = \\mathbf{b}$, and $C$ be the set of columns used to obtain that solution. Let $C_1 \\subseteq C$ be the subset of columns with a leading one. It must hold that $|C_1|>2^{m-2}$. In addition, we can define $\\mathbf{A}_1$ to be the submatrix of $\\mathbf{A}$ composed of columns containing a $1$ as the first element.\n",
    "\n",
    "We have that each row of $\\mathbf{A}_1$ contains exactly $2^{m-2}$ ones, except the first one which contains $2^{m-1}$ ones. Additionally the elements of $C_1$ are columns of $\\mathbf{A}_1$. Then since $|C_1|>2^{m-2}$, then each row of the sub-matrix of $\\mathbf{A}_1$ formed by the columns in $C_1$ contains at least $b_1-2^{m-2}$ ones.\n",
    "\n",
    "In particular this implies that $b_m \\geq b_1-2^{m-2}$ and it follows that $b_1 - b_m \\leq 2^{m-2}$. qed"
   ],
   "metadata": {
    "collapsed": false,
    "pycharm": {
     "name": "#%% md\n"
    }
   }
  },
  {
   "cell_type": "markdown",
   "source": [
    "$\\textbf{Intuition 1}$: Let $\\mathbf{b} \\in \\mathbb{N}^m$ be a vector and $\\mathbf{b}_{\\text{sort}$ be the sorted version of $\\mathbf{b}$. Then $\\mathbf{b}$ is feasible $\\iff \\mathbf{b}_{\\text{sort}$ is feasible."
   ],
   "metadata": {
    "collapsed": false,
    "pycharm": {
     "name": "#%% md\n"
    }
   }
  },
  {
   "cell_type": "code",
   "execution_count": null,
   "outputs": [],
   "source": [],
   "metadata": {
    "collapsed": false,
    "pycharm": {
     "name": "#%%\n"
    }
   }
  }
 ],
 "metadata": {
  "kernelspec": {
   "display_name": "Python 3",
   "language": "python",
   "name": "python3"
  },
  "language_info": {
   "codemirror_mode": {
    "name": "ipython",
    "version": 2
   },
   "file_extension": ".py",
   "mimetype": "text/x-python",
   "name": "python",
   "nbconvert_exporter": "python",
   "pygments_lexer": "ipython2",
   "version": "2.7.6"
  }
 },
 "nbformat": 4,
 "nbformat_minor": 0
}