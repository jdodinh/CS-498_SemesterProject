{
 "cells": [
  {
   "cell_type": "markdown",
   "source": [
    "# $\\mathbf{\\{0,1\\}}$ - Integer Programming with Complete Constraint Matrices"
   ],
   "metadata": {
    "collapsed": false
   }
  },
  {
   "cell_type": "markdown",
   "source": [
    "## Random Informed Guesses"
   ],
   "metadata": {
    "collapsed": false,
    "pycharm": {
     "name": "#%% md\n"
    }
   }
  },
  {
   "cell_type": "markdown",
   "source": [
    "We begin by enumerating (given an integer $m$) all possible linear combinations on the columns of the complete matrix. Based on those, we try to filter the ones that are withing the ranges:\n",
    "* $\\mathbf{1} \\cdot 2^{m-2} \\leq \\mathbf{b} \\leq \\mathbf{1} \\cdot  2^{m-1}$\n",
    "* $\\mathbf{1} \\cdot 2^{m-3} \\leq \\mathbf{b} \\leq \\mathbf{1} \\cdot  2^{m-2}$\n",
    "* $\\mathbf{1} \\cdot 2^{m-4} \\leq \\mathbf{b} \\leq \\mathbf{3} \\cdot  2^{m-2}$\n",
    "* $\\vdots$"
   ],
   "metadata": {
    "collapsed": false,
    "pycharm": {
     "name": "#%% md\n"
    }
   }
  },
  {
   "cell_type": "markdown",
   "source": [],
   "metadata": {
    "collapsed": false,
    "pycharm": {
     "name": "#%% md\n"
    }
   }
  },
  {
   "cell_type": "code",
   "execution_count": 10,
   "outputs": [],
   "source": [
    "from helpers import *\n",
    "from tqdm import tqdm\n",
    "import numpy as np\n",
    "import pickle\n",
    "import matplotlib.pyplot as plt"
   ],
   "metadata": {
    "collapsed": false,
    "pycharm": {
     "name": "#%%\n"
    }
   }
  },
  {
   "cell_type": "code",
   "execution_count": 22,
   "outputs": [],
   "source": [
    "ranges_5 = {}\n",
    "m = 5\n",
    "for i in range(16):\n",
    "    pickle_in = open(\"ComputationalResults/ranges\"+str(5)+\"/ranges\"+str(m)+\"_\"+str(i)+\".pkl\", 'rb')\n",
    "    d: dict = pickle.load(pickle_in)\n",
    "    if i == 0:\n",
    "        ranges_5 = d\n",
    "    else:\n",
    "        for key in d.keys():\n",
    "            ranges_5[key] += d[key]\n",
    "\n",
    "# with open(\"ComputationalResults/ranges\"+str(5)+\"_UBLB/ranges\"+str(m)+\"_UBLB.pkl\", 'wb') as f:\n",
    "#     pickle.dump(ranges_5_UBLB, f)\n",
    "#     f.close()\n",
    "\n"
   ],
   "metadata": {
    "collapsed": false,
    "pycharm": {
     "name": "#%%\n"
    }
   }
  },
  {
   "cell_type": "markdown",
   "source": [
    "| Range of Values               | Number of combinations |\n",
    "|-------------------------------|------------------------|\n",
    "| $2^{m-2} \\leq b \\leq 2^{m-1}$ | $546433766$            |\n",
    "| $2^{m-3} \\leq b \\leq 2^{m-2}$ | $463546849$            |\n",
    "| $2^{m-4} \\leq b \\leq 2^{m-3}$ | $1762382$              |\n",
    "| $2^{m-5} \\leq b \\leq 2^{m-4}$ | $6995$                 |\n",
    "\n",
    "| Range of Values               | Number of combinations |\n",
    "|-------------------------------|------------------------|\n",
    "| $2^{m-3} \\leq b \\leq 2^{m-1}$ | $2054665066$           |\n",
    "| $2^{m-4} \\leq b \\leq 2^{m-2}$ | $543768948$            |\n",
    "| $2^{m-5} \\leq b \\leq 2^{m-3}$ | $2178649$              |\n",
    "\n",
    "| Range of Values               | Number of combinations |\n",
    "|-------------------------------|------------------------|\n",
    "| $2^{m-4} \\leq b \\leq 2^{m-1}$ | $2144799235$           |\n",
    "| $2^{m-5} \\leq b \\leq 2^{m-2}$ | $546271135$            |\n",
    "\n",
    "| Range of Values               | Number of combinations |\n",
    "|-------------------------------|------------------------|\n",
    "| $2^{m-5} \\leq b \\leq 2^{m-1}$ | $2147321017$           |\n",
    "\n",
    "| Range of Values         | Number of combinations |\n",
    "|-------------------------|------------------------|\n",
    "| $0 \\leq b \\leq 2^{m-1}$ | $2147483648$           |\n",
    "| $0 \\leq b \\leq 2^{m-2}$ | $546433766$            |\n",
    "| $0 \\leq b \\leq 2^{m-3}$ | $2232875$              |\n",
    "| $0 \\leq b \\leq 2^{m-4}$ | $9736$                 |\n",
    "| $0 \\leq b \\leq 2^{m-5}$ | $203$                  |"
   ],
   "metadata": {
    "collapsed": false,
    "pycharm": {
     "name": "#%% md\n"
    }
   }
  },
  {
   "cell_type": "markdown",
   "source": [],
   "metadata": {
    "collapsed": false
   }
  },
  {
   "cell_type": "code",
   "execution_count": 29,
   "outputs": [],
   "source": [
    "import json\n",
    "with open('ComputationalResults/feasRHS_4', 'rb') as f:\n",
    "    feasRHS_4 = pickle.load(f)\n",
    "    f.close()\n",
    "feas = []\n",
    "for rhs in feasRHS_4:\n",
    "    rhs = json.loads(rhs)\n",
    "    feas.append(rhs)\n",
    "feas = np.array(feas)"
   ],
   "metadata": {
    "collapsed": false,
    "pycharm": {
     "name": "#%%\n"
    }
   }
  },
  {
   "cell_type": "code",
   "execution_count": 25,
   "outputs": [
    {
     "ename": "KeyboardInterrupt",
     "evalue": "",
     "output_type": "error",
     "traceback": [
      "\u001B[0;31m---------------------------------------------------------------------------\u001B[0m",
      "\u001B[0;31mKeyboardInterrupt\u001B[0m                         Traceback (most recent call last)",
      "\u001B[0;32m/var/folders/hv/fw_dfpnn41dbw73cgkhw78g00000gn/T/ipykernel_18857/858605746.py\u001B[0m in \u001B[0;36m<module>\u001B[0;34m\u001B[0m\n\u001B[1;32m      1\u001B[0m \u001B[0;32mimport\u001B[0m \u001B[0mjson\u001B[0m\u001B[0;34m\u001B[0m\u001B[0;34m\u001B[0m\u001B[0m\n\u001B[1;32m      2\u001B[0m \u001B[0;32mfor\u001B[0m \u001B[0mrhs\u001B[0m \u001B[0;32min\u001B[0m \u001B[0mfeasRHS_4\u001B[0m\u001B[0;34m:\u001B[0m\u001B[0;34m\u001B[0m\u001B[0;34m\u001B[0m\u001B[0m\n\u001B[0;32m----> 3\u001B[0;31m     \u001B[0mlst\u001B[0m \u001B[0;34m=\u001B[0m \u001B[0mjson\u001B[0m\u001B[0;34m.\u001B[0m\u001B[0mloads\u001B[0m\u001B[0;34m(\u001B[0m\u001B[0mrhs\u001B[0m\u001B[0;34m)\u001B[0m\u001B[0;34m\u001B[0m\u001B[0;34m\u001B[0m\u001B[0m\n\u001B[0m",
      "\u001B[0;32m/var/folders/hv/fw_dfpnn41dbw73cgkhw78g00000gn/T/ipykernel_18857/858605746.py\u001B[0m in \u001B[0;36m<module>\u001B[0;34m\u001B[0m\n\u001B[1;32m      1\u001B[0m \u001B[0;32mimport\u001B[0m \u001B[0mjson\u001B[0m\u001B[0;34m\u001B[0m\u001B[0;34m\u001B[0m\u001B[0m\n\u001B[1;32m      2\u001B[0m \u001B[0;32mfor\u001B[0m \u001B[0mrhs\u001B[0m \u001B[0;32min\u001B[0m \u001B[0mfeasRHS_4\u001B[0m\u001B[0;34m:\u001B[0m\u001B[0;34m\u001B[0m\u001B[0;34m\u001B[0m\u001B[0m\n\u001B[0;32m----> 3\u001B[0;31m     \u001B[0mlst\u001B[0m \u001B[0;34m=\u001B[0m \u001B[0mjson\u001B[0m\u001B[0;34m.\u001B[0m\u001B[0mloads\u001B[0m\u001B[0;34m(\u001B[0m\u001B[0mrhs\u001B[0m\u001B[0;34m)\u001B[0m\u001B[0;34m\u001B[0m\u001B[0;34m\u001B[0m\u001B[0m\n\u001B[0m",
      "\u001B[0;32m_pydevd_bundle/pydevd_cython_darwin_39_64.pyx\u001B[0m in \u001B[0;36m_pydevd_bundle.pydevd_cython_darwin_39_64.SafeCallWrapper.__call__\u001B[0;34m()\u001B[0m\n",
      "\u001B[0;32m_pydevd_bundle/pydevd_cython_darwin_39_64.pyx\u001B[0m in \u001B[0;36m_pydevd_bundle.pydevd_cython_darwin_39_64.PyDBFrame.trace_dispatch\u001B[0;34m()\u001B[0m\n",
      "\u001B[0;32m_pydevd_bundle/pydevd_cython_darwin_39_64.pyx\u001B[0m in \u001B[0;36m_pydevd_bundle.pydevd_cython_darwin_39_64.PyDBFrame.trace_dispatch\u001B[0;34m()\u001B[0m\n",
      "\u001B[0;32m_pydevd_bundle/pydevd_cython_darwin_39_64.pyx\u001B[0m in \u001B[0;36m_pydevd_bundle.pydevd_cython_darwin_39_64.PyDBFrame.trace_dispatch\u001B[0;34m()\u001B[0m\n",
      "\u001B[0;32m/Applications/PyCharm.app/Contents/plugins/python/helpers-pro/jupyter_debug/pydev_jupyter_plugin.py\u001B[0m in \u001B[0;36mstop\u001B[0;34m(plugin, pydb, frame, event, args, stop_info, arg, step_cmd)\u001B[0m\n\u001B[1;32m    163\u001B[0m         \u001B[0mframe\u001B[0m \u001B[0;34m=\u001B[0m \u001B[0msuspend_jupyter\u001B[0m\u001B[0;34m(\u001B[0m\u001B[0mmain_debugger\u001B[0m\u001B[0;34m,\u001B[0m \u001B[0mthread\u001B[0m\u001B[0;34m,\u001B[0m \u001B[0mframe\u001B[0m\u001B[0;34m,\u001B[0m \u001B[0mstep_cmd\u001B[0m\u001B[0;34m)\u001B[0m\u001B[0;34m\u001B[0m\u001B[0;34m\u001B[0m\u001B[0m\n\u001B[1;32m    164\u001B[0m         \u001B[0;32mif\u001B[0m \u001B[0mframe\u001B[0m\u001B[0;34m:\u001B[0m\u001B[0;34m\u001B[0m\u001B[0;34m\u001B[0m\u001B[0m\n\u001B[0;32m--> 165\u001B[0;31m             \u001B[0mmain_debugger\u001B[0m\u001B[0;34m.\u001B[0m\u001B[0mdo_wait_suspend\u001B[0m\u001B[0;34m(\u001B[0m\u001B[0mthread\u001B[0m\u001B[0;34m,\u001B[0m \u001B[0mframe\u001B[0m\u001B[0;34m,\u001B[0m \u001B[0mevent\u001B[0m\u001B[0;34m,\u001B[0m \u001B[0marg\u001B[0m\u001B[0;34m)\u001B[0m\u001B[0;34m\u001B[0m\u001B[0;34m\u001B[0m\u001B[0m\n\u001B[0m\u001B[1;32m    166\u001B[0m             \u001B[0;32mreturn\u001B[0m \u001B[0;32mTrue\u001B[0m\u001B[0;34m\u001B[0m\u001B[0;34m\u001B[0m\u001B[0m\n\u001B[1;32m    167\u001B[0m     \u001B[0;32mreturn\u001B[0m \u001B[0;32mFalse\u001B[0m\u001B[0;34m\u001B[0m\u001B[0;34m\u001B[0m\u001B[0m\n",
      "\u001B[0;32m/Applications/PyCharm.app/Contents/plugins/python/helpers/pydev/pydevd.py\u001B[0m in \u001B[0;36mdo_wait_suspend\u001B[0;34m(self, thread, frame, event, arg, send_suspend_message, is_unhandled_exception)\u001B[0m\n\u001B[1;32m   1145\u001B[0m \u001B[0;34m\u001B[0m\u001B[0m\n\u001B[1;32m   1146\u001B[0m         \u001B[0;32mwith\u001B[0m \u001B[0mself\u001B[0m\u001B[0;34m.\u001B[0m\u001B[0m_threads_suspended_single_notification\u001B[0m\u001B[0;34m.\u001B[0m\u001B[0mnotify_thread_suspended\u001B[0m\u001B[0;34m(\u001B[0m\u001B[0mthread_id\u001B[0m\u001B[0;34m,\u001B[0m \u001B[0mstop_reason\u001B[0m\u001B[0;34m)\u001B[0m\u001B[0;34m:\u001B[0m\u001B[0;34m\u001B[0m\u001B[0;34m\u001B[0m\u001B[0m\n\u001B[0;32m-> 1147\u001B[0;31m             \u001B[0mself\u001B[0m\u001B[0;34m.\u001B[0m\u001B[0m_do_wait_suspend\u001B[0m\u001B[0;34m(\u001B[0m\u001B[0mthread\u001B[0m\u001B[0;34m,\u001B[0m \u001B[0mframe\u001B[0m\u001B[0;34m,\u001B[0m \u001B[0mevent\u001B[0m\u001B[0;34m,\u001B[0m \u001B[0marg\u001B[0m\u001B[0;34m,\u001B[0m \u001B[0msuspend_type\u001B[0m\u001B[0;34m,\u001B[0m \u001B[0mfrom_this_thread\u001B[0m\u001B[0;34m)\u001B[0m\u001B[0;34m\u001B[0m\u001B[0;34m\u001B[0m\u001B[0m\n\u001B[0m\u001B[1;32m   1148\u001B[0m \u001B[0;34m\u001B[0m\u001B[0m\n\u001B[1;32m   1149\u001B[0m     \u001B[0;32mdef\u001B[0m \u001B[0m_do_wait_suspend\u001B[0m\u001B[0;34m(\u001B[0m\u001B[0mself\u001B[0m\u001B[0;34m,\u001B[0m \u001B[0mthread\u001B[0m\u001B[0;34m,\u001B[0m \u001B[0mframe\u001B[0m\u001B[0;34m,\u001B[0m \u001B[0mevent\u001B[0m\u001B[0;34m,\u001B[0m \u001B[0marg\u001B[0m\u001B[0;34m,\u001B[0m \u001B[0msuspend_type\u001B[0m\u001B[0;34m,\u001B[0m \u001B[0mfrom_this_thread\u001B[0m\u001B[0;34m)\u001B[0m\u001B[0;34m:\u001B[0m\u001B[0;34m\u001B[0m\u001B[0;34m\u001B[0m\u001B[0m\n",
      "\u001B[0;32m/Applications/PyCharm.app/Contents/plugins/python/helpers/pydev/pydevd.py\u001B[0m in \u001B[0;36m_do_wait_suspend\u001B[0;34m(self, thread, frame, event, arg, suspend_type, from_this_thread)\u001B[0m\n\u001B[1;32m   1160\u001B[0m \u001B[0;34m\u001B[0m\u001B[0m\n\u001B[1;32m   1161\u001B[0m                 \u001B[0mself\u001B[0m\u001B[0;34m.\u001B[0m\u001B[0mprocess_internal_commands\u001B[0m\u001B[0;34m(\u001B[0m\u001B[0;34m)\u001B[0m\u001B[0;34m\u001B[0m\u001B[0;34m\u001B[0m\u001B[0m\n\u001B[0;32m-> 1162\u001B[0;31m                 \u001B[0mtime\u001B[0m\u001B[0;34m.\u001B[0m\u001B[0msleep\u001B[0m\u001B[0;34m(\u001B[0m\u001B[0;36m0.01\u001B[0m\u001B[0;34m)\u001B[0m\u001B[0;34m\u001B[0m\u001B[0;34m\u001B[0m\u001B[0m\n\u001B[0m\u001B[1;32m   1163\u001B[0m \u001B[0;34m\u001B[0m\u001B[0m\n\u001B[1;32m   1164\u001B[0m         \u001B[0mself\u001B[0m\u001B[0;34m.\u001B[0m\u001B[0mcancel_async_evaluation\u001B[0m\u001B[0;34m(\u001B[0m\u001B[0mget_current_thread_id\u001B[0m\u001B[0;34m(\u001B[0m\u001B[0mthread\u001B[0m\u001B[0;34m)\u001B[0m\u001B[0;34m,\u001B[0m \u001B[0mstr\u001B[0m\u001B[0;34m(\u001B[0m\u001B[0mid\u001B[0m\u001B[0;34m(\u001B[0m\u001B[0mframe\u001B[0m\u001B[0;34m)\u001B[0m\u001B[0;34m)\u001B[0m\u001B[0;34m)\u001B[0m\u001B[0;34m\u001B[0m\u001B[0;34m\u001B[0m\u001B[0m\n",
      "\u001B[0;31mKeyboardInterrupt\u001B[0m: "
     ]
    }
   ],
   "source": [],
   "metadata": {
    "collapsed": false,
    "pycharm": {
     "name": "#%%\n"
    }
   }
  },
  {
   "cell_type": "markdown",
   "source": [
    "Fractionality depends on the determinant of the matrix because of Kramer's rule"
   ],
   "metadata": {
    "collapsed": false,
    "pycharm": {
     "name": "#%% md\n"
    }
   }
  },
  {
   "cell_type": "markdown",
   "source": [],
   "metadata": {
    "collapsed": false,
    "pycharm": {
     "name": "#%% md\n"
    }
   }
  },
  {
   "cell_type": "code",
   "execution_count": null,
   "outputs": [],
   "source": [],
   "metadata": {
    "collapsed": false,
    "pycharm": {
     "name": "#%%\n"
    }
   }
  },
  {
   "cell_type": "markdown",
   "source": [
    "## Claims & Intuitions"
   ],
   "metadata": {
    "collapsed": false,
    "pycharm": {
     "name": "#%% md\n"
    }
   }
  },
  {
   "cell_type": "markdown",
   "source": [
    "$\\text{\\bf Claim}$: If a right hand side $\\mathbf{b} = (b_1, \\dots, b_m)$ is feasible then $\\max_i\\{b_i\\}-\\min_i\\{b_i\\} \\leq 2^{m-2}$\n",
    "\n",
    "$\\text{\\bf Proof}$: Without loss of generality, assume that $\\mathbf{b}$ is sorted. We claim, that if $\\mathbf{b}$ is a feasible right hand side, then $b_1-b_m \\leq 2^{m-2}$.\n",
    "\n",
    "Suppose for the sake of contradiction that this is not the case. Then $b_1-b_m > 2^{m-2}$, and in particular we have that $b_1 > 2^{m-2}$.\n",
    "\n",
    "Let $\\mathbf{x}$ be a solution for $\\mathbf{Ax} = \\mathbf{b}$, and $C$ be the set of columns used to obtain that solution. Let $C_1 \\subseteq C$ be the subset of columns with a leading one. It must hold that $|C_1|>2^{m-2}$. In addition, we can define $\\mathbf{A}_1$ to be the submatrix of $\\mathbf{A}$ composed of columns containing a $1$ as the first element.\n",
    "\n",
    "We have that each row of $\\mathbf{A}_1$ contains exactly $2^{m-2}$ ones, except the first one which contains $2^{m-1}$ ones. Additionally the elements of $C_1$ are columns of $\\mathbf{A}_1$. Then since $|C_1|>2^{m-2}$, then each row of the sub-matrix of $\\mathbf{A}_1$ formed by the columns in $C_1$ contains at least $b_1-2^{m-2}$ ones.\n",
    "\n",
    "In particular this implies that $b_m \\geq b_1-2^{m-2}$ and it follows that $b_1 - b_m \\leq 2^{m-2}$. qed"
   ],
   "metadata": {
    "collapsed": false,
    "pycharm": {
     "name": "#%% md\n"
    }
   }
  },
  {
   "cell_type": "markdown",
   "source": [
    "$\\textbf{Intuition 1}$: Let $\\mathbf{b} \\in \\mathbb{N}^m$ be a vector and $\\mathbf{b}_{\\text{sort}$ be the sorted version of $\\mathbf{b}$. Then $\\mathbf{b}$ is feasible $\\iff \\mathbf{b}_{\\text{sort}$ is feasible."
   ],
   "metadata": {
    "collapsed": false,
    "pycharm": {
     "name": "#%% md\n"
    }
   }
  },
  {
   "cell_type": "code",
   "execution_count": null,
   "outputs": [],
   "source": [],
   "metadata": {
    "collapsed": false,
    "pycharm": {
     "name": "#%%\n"
    }
   }
  }
 ],
 "metadata": {
  "kernelspec": {
   "display_name": "Python 3",
   "language": "python",
   "name": "python3"
  },
  "language_info": {
   "codemirror_mode": {
    "name": "ipython",
    "version": 2
   },
   "file_extension": ".py",
   "mimetype": "text/x-python",
   "name": "python",
   "nbconvert_exporter": "python",
   "pygments_lexer": "ipython2",
   "version": "2.7.6"
  }
 },
 "nbformat": 4,
 "nbformat_minor": 0
}