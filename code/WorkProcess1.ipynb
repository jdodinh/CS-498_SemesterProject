{
 "cells": [
  {
   "cell_type": "code",
   "execution_count": 76,
   "outputs": [],
   "source": [
    "import itertools\n",
    "import math\n",
    "%reload_ext autoreload\n",
    "%autoreload 2"
   ],
   "metadata": {
    "collapsed": false,
    "pycharm": {
     "name": "#%%\n"
    }
   }
  },
  {
   "cell_type": "code",
   "execution_count": 77,
   "outputs": [],
   "source": [
    "import numpy as np\n",
    "import os\n",
    "import sys\n",
    "from time import perf_counter\n",
    "import matplotlib.pyplot as plt\n",
    "from helpers import *\n",
    "from tqdm import tqdm\n",
    "import random\n",
    "import pickle\n",
    "import math\n",
    "EPS = 1e-09"
   ],
   "metadata": {
    "collapsed": false,
    "pycharm": {
     "name": "#%%\n"
    }
   }
  },
  {
   "cell_type": "code",
   "execution_count": 78,
   "outputs": [
    {
     "data": {
      "text/plain": "'/Users/jdodinh/Dropbox/2 - SPRING 2022/CS-498 - Semester Project/code'"
     },
     "execution_count": 78,
     "metadata": {},
     "output_type": "execute_result"
    }
   ],
   "source": [
    "os.getcwd()"
   ],
   "metadata": {
    "collapsed": false,
    "pycharm": {
     "name": "#%%\n"
    }
   }
  },
  {
   "cell_type": "markdown",
   "source": [
    "# Log\n",
    "\n",
    "## Description of the problem\n",
    "\n",
    "We are interested in the problem involving complete $0/1$ matrices. Such a matrix is a $m \\times 2^m -1$, where the columns are all the distinct binary strings on $m$ bits. Given an integer vector $b$ we want to determine whether there exists a $(2^m -1)$- bit binary vector $\\mathbf{x}$ such that $\\mathbf{Ax}=\\mathbf{b}$.\n",
    "\n",
    "The problem can be divided into two parts: feasibility and solution. With feasibility, we want to explore whether given an integer vector $b$ i a solution exists (yes or no), and with the latter we wish to investigate the properties needed for solving the problem (i.e.: outputting the vector $x$\n",
    ".\n",
    "\n",
    "We wish to explore properties of the problem (or in particular the vector $b$) to determine partial solutions to the problem to reduce the general problem to simpler problems.\n"
   ],
   "metadata": {
    "collapsed": false
   }
  },
  {
   "cell_type": "markdown",
   "source": [
    "\n",
    "## Week 3\n",
    "\n",
    "It is easy to find a solution for a rhs of the form $\\mathbf{b} = [b \\quad ... \\quad b]$. Since each vector has a complement, we can simply choose $b$ vector complement pairs to build the solution. As a result we choose to simplify the problem and decompose it. For each potential right-hand side, we can find an $l \\geq 0$ such that $\\mathbf{b} = l \\cdot \\mathbf{1} + \\mathbf{u}$.\n",
    "\n",
    "We need to have that $\\mathbf{u}$ is minimal feasible solution with regards to the $l_{\\infty}$ norm, which implies that $\\mathbf{u} - \\mathbf{1}$ should not be feasible.\n",
    "\n",
    "We will therefore try to enumerate the set $U$ of vectors that are feasible and minimal with regards to the $l_{\\infty}$ norm. We will also try to find their minimal support solutions, and find if there is a case where more than one solution is possible.\n",
    "\n",
    "To find such vectors, we simply choose vectors one by one, and automatically remove their complement from consideration"
   ],
   "metadata": {
    "collapsed": false,
    "pycharm": {
     "name": "#%% md\n"
    }
   }
  },
  {
   "cell_type": "code",
   "execution_count": 79,
   "outputs": [
    {
     "name": "stdout",
     "output_type": "stream",
     "text": [
      "m = 4 \t Datatype = <class 'bool'>\n",
      "Time taken = 7.296437004697509 ms\n"
     ]
    }
   ],
   "source": [
    "m = 4\n",
    "dt = bool\n",
    "\n",
    "time_start = perf_counter()\n",
    "complete_mat = make_complete(m, dt=dt)\n",
    "time_stop = perf_counter()\n",
    "\n",
    "df = pd.DataFrame(complete_mat.astype(int))\n",
    "\n",
    "print(\"m =\", m, \"\\t Datatype =\", dt)\n",
    "print(\"Time taken =\", 1000*(time_stop-time_start), \"ms\")\n",
    "\n",
    "# print(df.to_string(header=False, index=False))"
   ],
   "metadata": {
    "collapsed": false,
    "pycharm": {
     "name": "#%%\n"
    }
   }
  },
  {
   "cell_type": "markdown",
   "source": [
    "It is useful to state some facts about the solution. Given a $\\mathbf{u}$ that is minimal feasible, we have that $\\mathbf{Ax} = l \\cdot \\mathbf{1} + \\mathbf{u}$. Then suppose that $\\mathbf{A\\hat{x}} = l \\cdot \\mathbf{1}$ and $\\mathbf{A\\tilde{x}} = \\mathbf{u}$. Then any vector from $A$ that is chosen to create $\\mathbf{u}$ cannot be a vector chosen to create $l \\cdot \\mathbf{1}$."
   ],
   "metadata": {
    "collapsed": false,
    "pycharm": {
     "name": "#%% md\n"
    }
   }
  },
  {
   "cell_type": "markdown",
   "source": [
    "Upon choosing columns of $\\mathbf{A}$ to enumerate the set $U$ we need to remember that this imposes a constraint on the number of complement pairs columns that can be chosen. Suppose $\\mathbf{u}$ is made of $k$ vectors. Since none of these columns sum up to $\\mathbf{1}$, in particular it doesn't contain any vector complement pairs."
   ],
   "metadata": {
    "collapsed": false
   }
  },
  {
   "cell_type": "markdown",
   "source": [
    "Suppose we have the given decomposition $\\mathbf{Ax} = k \\cdot \\mathbf{1} + \\mathbf{u}$. Then it must hold that at least $2k$ vectors are already chosen, in order to yield the $k \\cdot \\mathbf{1}$ vector. There are $\\binom{2^{m-1}}{k}$ ways of choosing those vectors, if only pairs are considered."
   ],
   "metadata": {
    "collapsed": false
   }
  },
  {
   "cell_type": "markdown",
   "source": [
    "TODO:\n",
    "\n",
    " - Investigate properties of vectors that add up to $\\mathbf{1}$\n",
    " - Given an integer $m$ find the number of minimal feasible vectors $\\mathbf{u}$ that can be created, and for each, one determine how many non minimal vectors are feasible\n",
    "    - Derive an enumeration technique"
   ],
   "metadata": {
    "collapsed": false,
    "pycharm": {
     "name": "#%% md\n"
    }
   }
  },
  {
   "cell_type": "markdown",
   "source": [
    "## Greedy algorithm for finding a solution"
   ],
   "metadata": {
    "collapsed": false,
    "pycharm": {
     "name": "#%% md\n"
    }
   }
  },
  {
   "cell_type": "code",
   "execution_count": 80,
   "outputs": [
    {
     "data": {
      "text/plain": "'/Users/jdodinh/Dropbox/2 - SPRING 2022/CS-498 - Semester Project/code'"
     },
     "execution_count": 80,
     "metadata": {},
     "output_type": "execute_result"
    }
   ],
   "source": [
    "b = np.array([0, 1, 2, 1])\n",
    "os.getcwd()\n",
    "\n",
    "# find_solution(b)"
   ],
   "metadata": {
    "collapsed": false,
    "pycharm": {
     "name": "#%%\n"
    }
   }
  },
  {
   "cell_type": "markdown",
   "source": [
    "Goals for Week 4:\n",
    "\n",
    "- Find a counter example for the uniqueness of the support minimal solution, if it's possible.\n",
    "- If not try to derive a proof ro prove uniqueness or non-uniqueness of the support minimal solution.\n",
    "- If the solution is not unique, is there a particular property that relates them in a certain way, or are they seemingly random.\n",
    "- Think about an interpretation for what it means to have a unique solution in the polytope view.\n",
    "\n",
    "- Have a look at the proof"
   ],
   "metadata": {
    "collapsed": false,
    "pycharm": {
     "name": "#%% md\n"
    }
   }
  },
  {
   "cell_type": "markdown",
   "source": [
    "### Idea\n",
    "\n",
    "We can try to formulate the support minimal solution as a linear programming problem. To this extent we way that $u$ is our minimal solution. Then it is possible to formulate the linear program as:\n",
    "$$\\min \\quad \\mathbf{1}^\\top \\mathbf{x} \\\\\n",
    " \\text{st} \\quad \\quad \\mathbf{Ax} = \\mathbf{b} \\\\\n",
    " \\quad \\quad \\quad  x \\in [0,1], \\forall x$$\n",
    "\n",
    "This is an idea for the further investivation of the problem. As we can see, we are only allowing to make sure that values chosen for $x$ are always between $0$ and $1$, which is a relaxation of the integer problem. On top of this, we impose that the linear combination of the chosen columns is always exactly the vector $\\mathbf{b}$. Also, the cost function makes sure that we simply choose the minimum number of columns."
   ],
   "metadata": {
    "collapsed": false,
    "pycharm": {
     "name": "#%% md\n"
    }
   }
  },
  {
   "cell_type": "markdown",
   "source": [
    "Meeting Notes:\n",
    "\n",
    " - Look at the relationship between the fractional solutions and the integer solutions. We may be interested if a fractional solution implies an integral solution, try to find a counterexample as a a good starting point.\n",
    " - If there exists a fractional sol $x$ then there exists a fractional solution $x'$ which has at most $m$ fractional entries. This may allow us to solve a smaller version of the problem with all the integral columns removed. Then the problem is not complete anymore, but it bounds the fractionality.\n",
    " - The fractionality is the largest number in the denominator for a fractional solution.\n",
    "\n",
    "Take any m columns we want, with fractional multiplicity, see if it is possible to construct an integral solution, such that this solution cannot be obtained using the complete matrix.\n",
    "\n",
    "CPLEX from IBM"
   ],
   "metadata": {
    "collapsed": false,
    "pycharm": {
     "name": "#%% md\n"
    }
   }
  },
  {
   "cell_type": "code",
   "execution_count": 81,
   "outputs": [
    {
     "ename": "TypeError",
     "evalue": "splx_rel() missing 1 required positional argument: 'b'",
     "output_type": "error",
     "traceback": [
      "\u001B[0;31m---------------------------------------------------------------------------\u001B[0m",
      "\u001B[0;31mTypeError\u001B[0m                                 Traceback (most recent call last)",
      "\u001B[0;32m/var/folders/hv/fw_dfpnn41dbw73cgkhw78g00000gn/T/ipykernel_69921/2346919696.py\u001B[0m in \u001B[0;36m<module>\u001B[0;34m\u001B[0m\n\u001B[1;32m      1\u001B[0m \u001B[0mb\u001B[0m \u001B[0;34m=\u001B[0m \u001B[0mnp\u001B[0m\u001B[0;34m.\u001B[0m\u001B[0marray\u001B[0m\u001B[0;34m(\u001B[0m\u001B[0;34m[\u001B[0m\u001B[0;36m0\u001B[0m\u001B[0;34m,\u001B[0m \u001B[0;36m0\u001B[0m\u001B[0;34m,\u001B[0m \u001B[0;36m9\u001B[0m\u001B[0;34m]\u001B[0m\u001B[0;34m)\u001B[0m\u001B[0;34m\u001B[0m\u001B[0;34m\u001B[0m\u001B[0m\n\u001B[1;32m      2\u001B[0m \u001B[0msplx_int_prog\u001B[0m\u001B[0;34m,\u001B[0m \u001B[0mvar_int\u001B[0m \u001B[0;34m=\u001B[0m \u001B[0msplx_int\u001B[0m\u001B[0;34m(\u001B[0m\u001B[0mb\u001B[0m\u001B[0;34m)\u001B[0m\u001B[0;34m\u001B[0m\u001B[0;34m\u001B[0m\u001B[0m\n\u001B[0;32m----> 3\u001B[0;31m \u001B[0msplx_rel_prog\u001B[0m\u001B[0;34m,\u001B[0m \u001B[0mvar_rel\u001B[0m \u001B[0;34m=\u001B[0m \u001B[0msplx_rel\u001B[0m\u001B[0;34m(\u001B[0m\u001B[0mb\u001B[0m\u001B[0;34m)\u001B[0m\u001B[0;34m\u001B[0m\u001B[0;34m\u001B[0m\u001B[0m\n\u001B[0m",
      "\u001B[0;31mTypeError\u001B[0m: splx_rel() missing 1 required positional argument: 'b'"
     ]
    }
   ],
   "source": [
    "b = np.array([0, 0, 9])\n",
    "splx_int_prog, var_int = splx_int(b)\n",
    "splx_rel_prog, var_rel = splx_rel(b)"
   ],
   "metadata": {
    "collapsed": false,
    "pycharm": {
     "name": "#%%\n"
    }
   }
  },
  {
   "cell_type": "code",
   "execution_count": null,
   "outputs": [],
   "source": [
    "\n",
    "int_t1 = perf_counter()\n",
    "sol_int = splx_int_prog.solve()\n",
    "int_t2 = perf_counter()\n",
    "print(\"Time to solve integer program =\", int_t2-int_t1)\n",
    "\n",
    "rel_t1 = perf_counter()\n",
    "sol_rel = splx_rel_prog.solve()\n",
    "rel_t2 = perf_counter()\n",
    "print(\"Time to solve relaxation program =\", rel_t2-rel_t1)\n"
   ],
   "metadata": {
    "collapsed": false,
    "pycharm": {
     "name": "#%%\n"
    }
   }
  },
  {
   "cell_type": "code",
   "source": [
    "print(\"\\n##################################################\\n\"\n",
    "      \"################ INTEGER SOLUTION ################\\n\"\n",
    "      \"##################################################\\n\")\n",
    "\n",
    "splx_int_prog.print_solution()\n",
    "\n",
    "print(\"\\n##################################################\\n\"\n",
    "      \"############### RELAXATION SOLUTION ##############\\n\"\n",
    "      \"##################################################\\n\")\n",
    "\n",
    "splx_rel_prog.print_solution()"
   ],
   "metadata": {
    "collapsed": false,
    "pycharm": {
     "name": "#%%\n"
    }
   },
   "execution_count": null,
   "outputs": []
  },
  {
   "cell_type": "markdown",
   "source": [
    "There support minimal solution is not unique. This is demonstrated by the example when $\\mathbf{b} = [0 \\quad 1 \\quad 2 \\quad 1]$, which can be composed using two pairs of vectors. Namely $\\mathbf{u_1} = [0 \\quad 1 \\quad 1 \\quad 1]$ and $\\mathbf{u_2} = [0 \\quad 0 \\quad 1 \\quad 0]$ or  $\\mathbf{v_1} = [0 \\quad 1 \\quad 1 \\quad 0]$ and $\\mathbf{v_2} = [0 \\quad 0 \\quad 1 \\quad 1]$.\n",
    "\n",
    "This however is a particular version of the problem. Namely there is one $\\mathbf{0}$ entry. This allows us to consider a smaller problem where $m = 3$, by completely ignoring the given row. We can see that by doing so, we are left with a vector $\\mathbf{b} = [1 \\quad 2 \\quad 1]$ which can be decomposed into $\\mathbf{1}$ and $u = [0 \\quad 1 \\quad 0]$, l and therefore is not minimal feasible.\n",
    "\n",
    "Therefore to proceed further it would be good to find a support minimal solution that doesn't have any zero entries."
   ],
   "metadata": {
    "collapsed": false
   }
  },
  {
   "cell_type": "markdown",
   "source": [
    "To do this we will run an algorithm with $m = 4$, testing all possible combinations of the binary strings, while filtering for the ones that are maximal in their decomposition."
   ],
   "metadata": {
    "collapsed": false
   }
  },
  {
   "cell_type": "code",
   "execution_count": null,
   "outputs": [],
   "source": [
    "from helpers import *\n",
    "min_feas = find_min_feas2(6)\n",
    "# enumerate_frac(m)"
   ],
   "metadata": {
    "collapsed": false,
    "pycharm": {
     "name": "#%%\n"
    }
   }
  },
  {
   "cell_type": "markdown",
   "source": [
    "Since the execution for $m=4$ took over 20 minutes, we save tha variable to a file."
   ],
   "metadata": {
    "collapsed": false,
    "pycharm": {
     "name": "#%% md\n"
    }
   }
  },
  {
   "cell_type": "code",
   "execution_count": null,
   "outputs": [],
   "source": [
    "# with open(\"min_feas4.pkl\", \"wb\") as f:\n",
    "#     pickle.dump(min_feas, f)\n",
    "#     f.close()\n",
    "\n"
   ],
   "metadata": {
    "collapsed": false,
    "pycharm": {
     "name": "#%%\n"
    }
   }
  },
  {
   "cell_type": "markdown",
   "source": [
    "Find one solution, then penalize columns with a larger factor one by one to find another solution with the same number of columns."
   ],
   "metadata": {
    "collapsed": false,
    "pycharm": {
     "name": "#%% md\n"
    }
   }
  },
  {
   "cell_type": "code",
   "execution_count": null,
   "outputs": [],
   "source": [
    "pickle_in = open('min_feas4.pkl', 'rb')\n",
    "min_feas4 = pickle.load(pickle_in)\n",
    "pickle_in = open('min_feas5.pkl', 'rb')\n",
    "min_feas5 = pickle.load(pickle_in)\n",
    "\n",
    "m=4\n",
    "max_gap = 0\n",
    "for mf in min_feas4:\n",
    "    gap = np.max(mf)-np.min(mf)\n",
    "    if (gap>max_gap): max_gap = gap\n",
    "\n",
    "print(\"Maximum gap =\", max_gap)\n"
   ],
   "metadata": {
    "collapsed": false,
    "pycharm": {
     "name": "#%%\n"
    }
   }
  },
  {
   "cell_type": "code",
   "execution_count": null,
   "outputs": [],
   "source": [
    "# from helpers import splx_int\n",
    "mult_min_feas = []\n",
    "for b_min in tqdm(min_feas):\n",
    "    # print(\"Testing minimality of vector: \", b_min, end=\"\\t\")\n",
    "    int_prog, vars = splx_int(b_min)\n",
    "    int_prog.solve()\n",
    "    # sol = int_prog.get_var_by_name('x')\n",
    "    values = {}\n",
    "    non_zeros = []\n",
    "    for i in range(2**m):\n",
    "        varname = int_prog.get_var_by_index(i)\n",
    "        val = int(int_prog.solution.get_value(varname))\n",
    "        if val == 1:\n",
    "            non_zeros.append(i)\n",
    "            values[str(varname)] = val\n",
    "    opt_val = int_prog.objective_value\n",
    "    # print(\"Optimal value is: \", opt_val)\n",
    "    w = np.ones(2**len(b_min))\n",
    "    for nz in non_zeros:\n",
    "        varname = int_prog.get_var_by_index(nz)\n",
    "        w[nz] = sys.maxsize\n",
    "        obj_fun = sum([w[i]*vars[i] for i in range(2**m)])\n",
    "        int_prog.set_objective(\"min\", obj_fun)\n",
    "        sol = int_prog.solve()\n",
    "        # print(\"\\t Penalizing variable \", varname, \"\\t New objective value = \", sol.objective_value)\n",
    "        if (sol.objective_value == opt_val):\n",
    "            mult_min_feas.append(b_min)\n",
    "            break\n",
    "            # print(\"FOUND A SECOND SUPPORT MINIMAL SOLUTION\")\n",
    "        w[nz] = 1\n",
    "        # int_prog\n",
    "\n",
    "print(\"Found\", len(mult_min_feas), \"rhs with >1 minimal solutions\")\n",
    "\n"
   ],
   "metadata": {
    "collapsed": false,
    "pycharm": {
     "name": "#%%\n"
    }
   }
  },
  {
   "cell_type": "code",
   "execution_count": null,
   "outputs": [],
   "source": [
    "# n_sevens = []\n",
    "# for b in filt_sup_min:\n",
    "#     if 7 in b:\n",
    "#         n_sevens.append(b)"
   ],
   "metadata": {
    "collapsed": false,
    "pycharm": {
     "name": "#%%\n"
    }
   }
  },
  {
   "cell_type": "markdown",
   "source": [
    "Simple facts: There cannot exist a maximal decomposition such that $\\mathbf{b} = \\mathbf{u} + k\\mathbf{1}$ with $\\mathbf{u}$ containing the value $2^{m-1}$ inb one of it's entries. This is because, if this is the case, then $\\mathbf{u}$ must necessarily contain the $\\mathbf{1}$ vector, which contradicts the maximality of the decomposition.\n",
    "\n",
    "On the other hand, $\\mathbf{u}$ can contain only one extry of value $2^{m-1}-1$, in which case all of it's other values are $2^{m-2}-1$. This is because it forces $u$ to use up all the columns from one side of the matrix (except the 1 column), in which case using any other column would contradict maximality."
   ],
   "metadata": {
    "collapsed": false
   }
  },
  {
   "cell_type": "markdown",
   "source": [],
   "metadata": {
    "collapsed": false,
    "pycharm": {
     "name": "#%% md\n"
    }
   }
  },
  {
   "cell_type": "markdown",
   "source": [
    "# WEEK 6\n",
    "\n",
    "Possible proof: If an integral solution exists, then the relaxation of the linear program will output this solution."
   ],
   "metadata": {
    "collapsed": false,
    "pycharm": {
     "name": "#%% md\n"
    }
   }
  },
  {
   "cell_type": "code",
   "execution_count": null,
   "outputs": [],
   "source": [
    "def n_supp_min(m, i):\n",
    "    return int(math.factorial((2**(m-1)-1))/math.factorial((2**(m-1)-1-i)) * m)\n",
    "    # return math.factorial(i)*m"
   ],
   "metadata": {
    "collapsed": false,
    "pycharm": {
     "name": "#%%\n"
    }
   }
  },
  {
   "cell_type": "code",
   "execution_count": null,
   "outputs": [],
   "source": [
    "sum = 0\n",
    "m = 4\n",
    "for i in range((2**(m-2))):\n",
    "    sum += n_supp_min(m, i)\n",
    "2* sum"
   ],
   "metadata": {
    "collapsed": false,
    "pycharm": {
     "name": "#%%\n"
    }
   }
  },
  {
   "cell_type": "markdown",
   "source": [
    "## Investigating multiple support minimal solutions"
   ],
   "metadata": {
    "collapsed": false,
    "pycharm": {
     "name": "#%% md\n"
    }
   }
  },
  {
   "cell_type": "code",
   "execution_count": null,
   "outputs": [],
   "source": [
    "b = np.array([6, 4, 3, 2])\n",
    "int_prog, vars = splx_int(b)\n",
    "int_prog.parameters.mip.pool.intensity.set(4)\n",
    "int_prog.parameters.mip.pool.absgap.set(0)\n",
    "int_prog.parameters.mip.pool.relgap.set(0)\n",
    "int_prog.parameters.mip.limits.populate.set(2)\n",
    "sol_pool = int_prog.populate_solution_pool()\n",
    "\n",
    "\n"
   ],
   "metadata": {
    "collapsed": false,
    "pycharm": {
     "name": "#%%\n"
    }
   }
  },
  {
   "cell_type": "code",
   "execution_count": null,
   "outputs": [],
   "source": [
    "from helpers import *\n",
    "m = 4\n",
    "mult_supp_min_sol_min_feas = []\n",
    "A = make_complete(m, bool).astype(int)\n",
    "A_sh = A[:,1:-1]\n",
    "x_counter = np.zeros(2**m-2, dtype=int)\n",
    "b_ones = np.ones(m, dtype=int)\n",
    "for b in tqdm(min_feas):\n",
    "    model, siz = splx_int_mult(A, b, name=\"test_prog\")\n",
    "    if siz>1:\n",
    "        mult_supp_min_sol_min_feas.append(b)"
   ],
   "metadata": {
    "collapsed": false,
    "pycharm": {
     "name": "#%%\n"
    }
   }
  },
  {
   "cell_type": "markdown",
   "source": [
    "## Investigating Fractional Solutions\n",
    "\n",
    "Fractional solutions don't imply integral solutions.\n"
   ],
   "metadata": {
    "collapsed": false,
    "pycharm": {
     "name": "#%% md\n"
    }
   }
  },
  {
   "cell_type": "markdown",
   "source": [
    "Looking for counter example of fractional solution not implying integer solution"
   ],
   "metadata": {
    "collapsed": false,
    "pycharm": {
     "name": "#%% md\n"
    }
   }
  },
  {
   "cell_type": "code",
   "execution_count": null,
   "outputs": [],
   "source": [
    "def find_min_feas(m):\n",
    "    frac = []\n",
    "    A = make_complete(m, bool).astype(int)\n",
    "    A_sh = A[:,1:-1]\n",
    "    b_counter = np.zeros(2**m-2, dtype=int)\n",
    "    b_ones = np.ones(m, dtype=int)\n",
    "    for i in tqdm(range(2**(2**m-2))):\n",
    "        binary = np.array(list(bin(i).replace(\"0b\", \"\")), dtype=int)\n",
    "        b_counter[2**m-2-len(binary):] = binary\n",
    "        b = A_sh@b_counter\n",
    "        int_prog, vars = splx_int(A, b-b_ones)\n",
    "        if (int_prog.solve() is None):\n",
    "            rel_prog, x = splx_rel(A, b-b_ones)\n",
    "            if ((rel_prog.solve() is not None) and np.all(b > 0)):\n",
    "                # print(\"Found fractional solution, but no integer solution\")\n",
    "                rel_prog.print_solution()\n",
    "                break\n",
    "\n",
    "    return frac\n",
    "\n",
    "fr = find_min_feas(4)"
   ],
   "metadata": {
    "collapsed": false,
    "pycharm": {
     "name": "#%%\n"
    }
   }
  },
  {
   "cell_type": "code",
   "execution_count": null,
   "outputs": [],
   "source": [
    "import itertools\n",
    "m = 3\n",
    "A = make_complete(3, int)\n",
    "A_sh = A[:, 1:]\n",
    "ind = np.arange(0, 7)\n",
    "max = 2**(m-1)*np.ones(m, dtype=int)\n",
    "for comb in itertools.combinations(ind, 2):\n",
    "    subsets = A[:, comb]\n",
    "    summ = np.sum(subsets, axis=1)\n",
    "    if np.all(summ==1): # If there is an exact set cover\n",
    "        continue\n",
    "    else:\n",
    "        b = max - summ + np.ones(m, dtype=int)\n",
    "        prog, x = splx_int(A, b)\n",
    "        if (prog.solve() is not None):\n",
    "            print(comb)\n",
    "            print(subsets)\n",
    "            prog.print_solution()\n",
    "            break\n",
    "\n"
   ],
   "metadata": {
    "collapsed": false,
    "pycharm": {
     "name": "#%%\n"
    }
   }
  },
  {
   "cell_type": "code",
   "execution_count": null,
   "outputs": [],
   "source": [
    "m = 6\n",
    "A = make_complete(m, int)\n",
    "A_sh = A[:, 1:]\n",
    "b = np.zeros(m, dtype=int)\n",
    "base = 2**(m-1)+1\n",
    "for i in tqdm(range(base**m)):\n",
    "    b_conv = numberToBase(i,base)\n",
    "    b[m-len(b_conv):] = b_conv\n",
    "    if (np.all(b[:-1] >= b[1:])):\n",
    "        int_prog, x_int = splx_int(A, b)\n",
    "        rel_prog, x_rel = splx_rel(A, b)\n",
    "        if (int_prog.solve() is None):\n",
    "            if rel_prog.solve() is not None:\n",
    "                print(\"Found counterexample!\", b)"
   ],
   "metadata": {
    "collapsed": false,
    "pycharm": {
     "name": "#%%\n"
    }
   }
  },
  {
   "cell_type": "code",
   "execution_count": null,
   "outputs": [],
   "source": [
    "for m in range(1, 6):\n",
    "    print(\"Number of sorted arrays for m =\", m, \"is\", countSortedArrays(2**(m-1)+1, m))\n",
    "    enumerated = enumerateSorted(2**(m-1), m)\n",
    "    print(\"Length of enumerated is\", len(enumerated))\n",
    "\n",
    "# m=1\n",
    "# enumerateSorted(2**(m-1)+1, m)"
   ],
   "metadata": {
    "collapsed": false,
    "pycharm": {
     "name": "#%%\n"
    }
   }
  },
  {
   "cell_type": "markdown",
   "source": [
    "## Week 11\n",
    "Trying to enumerate guesses, below is code for trying the simplex program without the objective function"
   ],
   "metadata": {
    "collapsed": false,
    "pycharm": {
     "name": "#%% md\n"
    }
   }
  },
  {
   "cell_type": "code",
   "execution_count": null,
   "outputs": [],
   "source": [
    "from helpers import *\n",
    "b = np.array([8, 8, 8, 8, 8])\n",
    "m = len(b)\n",
    "A = make_complete(m, int)[:, 1:]\n",
    "IP, vars = splx_IP_mult(A, b)"
   ],
   "metadata": {
    "collapsed": false,
    "pycharm": {
     "name": "#%%\n"
    }
   }
  },
  {
   "cell_type": "code",
   "source": [
    "pool = IP.populate_solution_pool()\n",
    "pool.size"
   ],
   "metadata": {
    "collapsed": false,
    "pycharm": {
     "name": "#%%\n"
    }
   },
   "execution_count": null,
   "outputs": []
  },
  {
   "cell_type": "markdown",
   "source": [
    "### Question 1\n",
    "We try to find the number of solutions in general for $\\mathbf{1}\\cdot 2^{m-3}\\leq b \\leq \\mathbf{1}\\cdot 2^{m-2}$"
   ],
   "metadata": {
    "collapsed": false,
    "pycharm": {
     "name": "#%% md\n"
    }
   }
  },
  {
   "cell_type": "code",
   "execution_count": null,
   "outputs": [],
   "source": [
    "m = 4\n",
    "unsc_ub = 2**(m-2) - 2**(m-3) + 1 # base for our counting, which will be scaled by the vector filled with 2**(m-3)\n",
    "b_up = 2**(m-2) * np.ones(m, dtype=int)\n",
    "b_counter = np.zeros(m, dtype=int)\n",
    "sol_dict = {}\n",
    "A = make_complete(m, int)[:, 1:]\n",
    "for i in tqdm(range(unsc_ub**m)):\n",
    "    b_conv = numberToBase(i,unsc_ub)\n",
    "    b_counter[m-len(b_conv):] = b_conv\n",
    "    b = b_up-b_counter\n",
    "    if (np.all(b[:-1] >= b[1:])):\n",
    "        print(b)\n",
    "        # IP, vars = splx_IP_mult(A, b)\n",
    "        # pool = IP.populate_solution_pool()  ## This is the buggy version\n",
    "        # if pool.size in sol_dict:\n",
    "        #     sol_dict[pool.size].append(b)\n",
    "        # else:\n",
    "        #     sol_dict[pool.size] = [b]\n",
    "        # break"
   ],
   "metadata": {
    "collapsed": false,
    "pycharm": {
     "name": "#%%\n"
    }
   }
  },
  {
   "cell_type": "code",
   "execution_count": null,
   "outputs": [],
   "source": [
    "# plt.bar(guesses.keys(), guesses.values())"
   ],
   "metadata": {
    "collapsed": false,
    "pycharm": {
     "name": "#%%\n"
    }
   }
  },
  {
   "cell_type": "code",
   "execution_count": null,
   "outputs": [],
   "source": [
    "# with open(\"./ComputationalResults/guess_hist_\"+ str(m) +\".pkl\", \"wb\") as f:\n",
    "#     pickle.dump(sol_dict, f)\n",
    "#     f.close()"
   ],
   "metadata": {
    "collapsed": false,
    "pycharm": {
     "name": "#%%\n"
    }
   }
  },
  {
   "cell_type": "code",
   "execution_count": null,
   "outputs": [],
   "source": [
    "m = 6\n",
    "pickle_in = open('./ComputationalResults/guess_hist_'+str(m)+'.pkl', 'rb')\n",
    "guesses = pickle.load(pickle_in)"
   ],
   "metadata": {
    "collapsed": false,
    "pycharm": {
     "name": "#%%\n"
    }
   }
  },
  {
   "cell_type": "markdown",
   "source": [
    "Testing size of a suppost in a support minimal solution for a scaled $k$ vector. With $k = 2^{m-2}$"
   ],
   "metadata": {
    "collapsed": false,
    "pycharm": {
     "name": "#%% md\n"
    }
   }
  },
  {
   "cell_type": "code",
   "execution_count": null,
   "outputs": [],
   "source": [
    "m = 2\n",
    "# A = make_complete(m, int)[:, 1:]\n",
    "b = 2**(m-2)*np.ones(m)\n",
    "\n",
    "sols = [[m, splx_int(2**(m-3)*np.ones(m))[0].solve().objective_value, splx_int(2**(m-2)*np.ones(m))[0].solve().objective_value] for m in range(3, 10)]\n",
    "\n",
    "sols_trunc = [[m, splx_int_trunc(2**(m-3)*np.ones(m))[0].solve().objective_value, splx_int_trunc(2**(m-2)*np.ones(m))[0].solve().objective_value] for m in range(3, 10)]"
   ],
   "metadata": {
    "collapsed": false,
    "pycharm": {
     "name": "#%%\n"
    }
   }
  },
  {
   "cell_type": "code",
   "execution_count": null,
   "outputs": [],
   "source": [
    "np.array(sols)"
   ],
   "metadata": {
    "collapsed": false,
    "pycharm": {
     "name": "#%%\n"
    }
   }
  },
  {
   "cell_type": "code",
   "execution_count": null,
   "outputs": [],
   "source": [],
   "metadata": {
    "collapsed": false,
    "pycharm": {
     "name": "#%%\n"
    }
   }
  }
 ],
 "metadata": {
  "kernelspec": {
   "display_name": "Python 3",
   "language": "python",
   "name": "python3"
  },
  "language_info": {
   "codemirror_mode": {
    "name": "ipython",
    "version": 2
   },
   "file_extension": ".py",
   "mimetype": "text/x-python",
   "name": "python",
   "nbconvert_exporter": "python",
   "pygments_lexer": "ipython2",
   "version": "2.7.6"
  }
 },
 "nbformat": 4,
 "nbformat_minor": 0
}