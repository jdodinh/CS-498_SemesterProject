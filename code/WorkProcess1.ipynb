{
 "cells": [
  {
   "cell_type": "code",
   "execution_count": 2,
   "outputs": [],
   "source": [
    "import numpy as np\n",
    "import os\n",
    "from time import perf_counter\n",
    "\n",
    "import pandas as pd\n",
    "\n",
    "from helpers import *"
   ],
   "metadata": {
    "collapsed": false,
    "pycharm": {
     "name": "#%%\n"
    }
   }
  },
  {
   "cell_type": "markdown",
   "source": [
    "# Log\n",
    "\n",
    "## Description of the problem\n",
    "\n",
    "We are interested in the problem involving complete $0/1$ matrices. Such a matrix is a $m \\times 2^m -1$, where the columns are all the distinct binary strings on $m$ bits. Given an integer vector $b$ we want to determine whether there exists a $(2^m -1)$- bit binary vector $\\mathbf{x}$ such that $\\mathbf{Ax}=\\mathbf{b}$.\n",
    "\n",
    "The problem can be divided into two parts: feasibility and solution. With feasibility, we want to explore whether given an integer vector $b$ i a solution exists (yes or no), and with the latter we wish to investigate the properties needed for solving the problem (i.e.: outputting the vector $x$\n",
    ".\n",
    "\n",
    "We wish to explore properties of the problem (or in particular the vector $b$) to determine partial solutions to the problem to reduce the general problem to simpler problems.\n"
   ],
   "metadata": {
    "collapsed": false
   }
  },
  {
   "cell_type": "markdown",
   "source": [
    "\n",
    "## Week 3\n",
    "\n",
    "It is easy to find a solution for a rhs of the form $\\mathbf{b} = [b \\quad ... \\quad b]$. Since each vector has a complement, we can simply choose $b$ vector complement pairs to build the solution. As a result we choose to simplify the problem and decompose it. For each potential right-hand side, we can find an $l \\geq 0$ such that $\\mathbf{b} = l \\cdot \\mathbf{1} + \\mathbf{u}$.\n",
    "\n",
    "We need to have that $\\mathbf{u}$ is minimal feasible solution with regards to the $l_{\\infty}$ norm, which implies that $\\mathbf{u} - \\mathbf{1}$ should not be feasible.\n",
    "\n",
    "We will therefore try to enumerate the set $U$ of vectors that are feasible and minimal with regards to the $l_{\\infty}$ norm. We will also try to find their minimal support solutions, and find if there is a case where more than one solution is possible.\n",
    "\n",
    "To find such vectors, we simply choose vectors one by one, and automatically remove their complement from consideration"
   ],
   "metadata": {
    "collapsed": false,
    "pycharm": {
     "name": "#%% md\n"
    }
   }
  },
  {
   "cell_type": "code",
   "execution_count": 26,
   "outputs": [
    {
     "name": "stdout",
     "output_type": "stream",
     "text": [
      "m = 16 \t Datatype = <class 'bool'>\n",
      "Time taken = 8.375918001547689 ms\n"
     ]
    }
   ],
   "source": [
    "m = 16\n",
    "dt = bool\n",
    "\n",
    "time_start = perf_counter()\n",
    "complete_mat = make_complete(m, dt=dt)\n",
    "time_stop = perf_counter()\n",
    "\n",
    "df = pd.DataFrame(complete_mat.astype(int))\n",
    "\n",
    "print(\"m =\", m, \"\\t Datatype =\", dt)\n",
    "print(\"Time taken =\", 1000*(time_stop-time_start), \"ms\")\n",
    "\n",
    "# print(df.to_string(header=False, index=False))"
   ],
   "metadata": {
    "collapsed": false,
    "pycharm": {
     "name": "#%%\n"
    }
   }
  },
  {
   "cell_type": "markdown",
   "source": [
    "It is useful to state some facts about the solution. Given a $\\mathbf{u}$ that is minimal feasible, we have that $\\mathbf{Ax} = l \\cdot \\mathbf{1} + \\mathbf{u}$. Then suppose that $\\mathbf{A\\hat{x}} = l \\cdot \\mathbf{1}$ and $\\mathbf{A\\tilde{x}} = \\mathbf{u}$. Then any vector from $A$ that is chosen to create $\\mathbf{u}$ cannot be a vector chosen to create $l \\cdot \\mathbf{1}$."
   ],
   "metadata": {
    "collapsed": false,
    "pycharm": {
     "name": "#%% md\n"
    }
   }
  },
  {
   "cell_type": "markdown",
   "source": [
    "Upon choosing columns of $\\mathbf{A}$ to enumerate the set $U$ we need to remember that this imposes a constraint on the number of complement pairs columns that can be chosen. Suppose $\\mathbf{u}$ is made of $k$ vectors. Since none of these columns sum up to $\\mathbf{1}$, in particular it doesn't contain any vector complement pairs."
   ],
   "metadata": {
    "collapsed": false
   }
  },
  {
   "cell_type": "markdown",
   "source": [
    "Suppose we have the given decomposition $\\mathbf{Ax} = k \\cdot \\mathbf{1} + \\mathbf{u}$. Then it must hold that at least $2k$ vectors are already chosen, in order to yield the $k \\cdot \\mathbf{1}$ vector. There are $\\binom{2^{m-1}}{k}$ ways of choosing those vectors, if only pairs are considered."
   ],
   "metadata": {
    "collapsed": false
   }
  },
  {
   "cell_type": "markdown",
   "source": [],
   "metadata": {
    "collapsed": false,
    "pycharm": {
     "name": "#%% md\n"
    }
   }
  },
  {
   "cell_type": "markdown",
   "source": [
    "TODO:\n",
    "\n",
    " - Investigate properties of vectors that add up to $\\mathbf{1}$\n",
    " - Given an integer $m$ find the number of minimal feasible vectors $\\mathbf{u}$ that can be created, and for each, one determine how many non minimal vectors are feasible\n",
    "    - Derive an enumeration technique"
   ],
   "metadata": {
    "collapsed": false,
    "pycharm": {
     "name": "#%% md\n"
    }
   }
  },
  {
   "cell_type": "markdown",
   "source": [
    "## Greedy algorithm for finding a solution"
   ],
   "metadata": {
    "collapsed": false,
    "pycharm": {
     "name": "#%% md\n"
    }
   }
  },
  {
   "cell_type": "code",
   "execution_count": 27,
   "outputs": [],
   "source": [
    "def find_solution(b):\n",
    "    m = b.shape[0]\n",
    "    dt = bool\n",
    "    mat = make_complete(m, dt)\n"
   ],
   "metadata": {
    "collapsed": false,
    "pycharm": {
     "name": "#%%\n"
    }
   }
  },
  {
   "cell_type": "code",
   "execution_count": 33,
   "outputs": [
    {
     "ename": "LinAlgError",
     "evalue": "Last 2 dimensions of the array must be square",
     "output_type": "error",
     "traceback": [
      "\u001B[0;31m---------------------------------------------------------------------------\u001B[0m",
      "\u001B[0;31mLinAlgError\u001B[0m                               Traceback (most recent call last)",
      "\u001B[0;32m/var/folders/hv/fw_dfpnn41dbw73cgkhw78g00000gn/T/ipykernel_35134/2425321121.py\u001B[0m in \u001B[0;36m<module>\u001B[0;34m\u001B[0m\n\u001B[1;32m      1\u001B[0m \u001B[0mb\u001B[0m \u001B[0;34m=\u001B[0m \u001B[0mnp\u001B[0m\u001B[0;34m.\u001B[0m\u001B[0marray\u001B[0m\u001B[0;34m(\u001B[0m\u001B[0;34m[\u001B[0m\u001B[0;36m1\u001B[0m\u001B[0;34m,\u001B[0m \u001B[0;36m2\u001B[0m\u001B[0;34m,\u001B[0m \u001B[0;36m3\u001B[0m\u001B[0;34m,\u001B[0m \u001B[0;36m4\u001B[0m\u001B[0;34m,\u001B[0m \u001B[0;36m5\u001B[0m\u001B[0;34m,\u001B[0m \u001B[0;36m6\u001B[0m\u001B[0;34m]\u001B[0m\u001B[0;34m)\u001B[0m\u001B[0;34m\u001B[0m\u001B[0;34m\u001B[0m\u001B[0m\n\u001B[0;32m----> 2\u001B[0;31m \u001B[0msol\u001B[0m \u001B[0;34m=\u001B[0m \u001B[0mfind_solution\u001B[0m\u001B[0;34m(\u001B[0m\u001B[0mb\u001B[0m\u001B[0;34m)\u001B[0m\u001B[0;34m\u001B[0m\u001B[0;34m\u001B[0m\u001B[0m\n\u001B[0m",
      "\u001B[0;32m/var/folders/hv/fw_dfpnn41dbw73cgkhw78g00000gn/T/ipykernel_35134/170860255.py\u001B[0m in \u001B[0;36mfind_solution\u001B[0;34m(b)\u001B[0m\n\u001B[1;32m      3\u001B[0m     \u001B[0mdt\u001B[0m \u001B[0;34m=\u001B[0m \u001B[0mbool\u001B[0m\u001B[0;34m\u001B[0m\u001B[0;34m\u001B[0m\u001B[0m\n\u001B[1;32m      4\u001B[0m     \u001B[0mmat\u001B[0m \u001B[0;34m=\u001B[0m \u001B[0mmake_complete\u001B[0m\u001B[0;34m(\u001B[0m\u001B[0mm\u001B[0m\u001B[0;34m,\u001B[0m \u001B[0mdt\u001B[0m\u001B[0;34m)\u001B[0m\u001B[0;34m\u001B[0m\u001B[0;34m\u001B[0m\u001B[0m\n\u001B[0;32m----> 5\u001B[0;31m     \u001B[0;32mreturn\u001B[0m \u001B[0mnp\u001B[0m\u001B[0;34m.\u001B[0m\u001B[0mlinalg\u001B[0m\u001B[0;34m.\u001B[0m\u001B[0msolve\u001B[0m\u001B[0;34m(\u001B[0m\u001B[0mmat\u001B[0m\u001B[0;34m.\u001B[0m\u001B[0mastype\u001B[0m\u001B[0;34m(\u001B[0m\u001B[0mint\u001B[0m\u001B[0;34m)\u001B[0m\u001B[0;34m,\u001B[0m \u001B[0mb\u001B[0m\u001B[0;34m.\u001B[0m\u001B[0mastype\u001B[0m\u001B[0;34m(\u001B[0m\u001B[0mint\u001B[0m\u001B[0;34m)\u001B[0m\u001B[0;34m)\u001B[0m\u001B[0;34m\u001B[0m\u001B[0;34m\u001B[0m\u001B[0m\n\u001B[0m",
      "\u001B[0;32m<__array_function__ internals>\u001B[0m in \u001B[0;36msolve\u001B[0;34m(*args, **kwargs)\u001B[0m\n",
      "\u001B[0;32m/usr/local/lib/python3.9/site-packages/numpy/linalg/linalg.py\u001B[0m in \u001B[0;36msolve\u001B[0;34m(a, b)\u001B[0m\n\u001B[1;32m    379\u001B[0m     \u001B[0ma\u001B[0m\u001B[0;34m,\u001B[0m \u001B[0m_\u001B[0m \u001B[0;34m=\u001B[0m \u001B[0m_makearray\u001B[0m\u001B[0;34m(\u001B[0m\u001B[0ma\u001B[0m\u001B[0;34m)\u001B[0m\u001B[0;34m\u001B[0m\u001B[0;34m\u001B[0m\u001B[0m\n\u001B[1;32m    380\u001B[0m     \u001B[0m_assert_stacked_2d\u001B[0m\u001B[0;34m(\u001B[0m\u001B[0ma\u001B[0m\u001B[0;34m)\u001B[0m\u001B[0;34m\u001B[0m\u001B[0;34m\u001B[0m\u001B[0m\n\u001B[0;32m--> 381\u001B[0;31m     \u001B[0m_assert_stacked_square\u001B[0m\u001B[0;34m(\u001B[0m\u001B[0ma\u001B[0m\u001B[0;34m)\u001B[0m\u001B[0;34m\u001B[0m\u001B[0;34m\u001B[0m\u001B[0m\n\u001B[0m\u001B[1;32m    382\u001B[0m     \u001B[0mb\u001B[0m\u001B[0;34m,\u001B[0m \u001B[0mwrap\u001B[0m \u001B[0;34m=\u001B[0m \u001B[0m_makearray\u001B[0m\u001B[0;34m(\u001B[0m\u001B[0mb\u001B[0m\u001B[0;34m)\u001B[0m\u001B[0;34m\u001B[0m\u001B[0;34m\u001B[0m\u001B[0m\n\u001B[1;32m    383\u001B[0m     \u001B[0mt\u001B[0m\u001B[0;34m,\u001B[0m \u001B[0mresult_t\u001B[0m \u001B[0;34m=\u001B[0m \u001B[0m_commonType\u001B[0m\u001B[0;34m(\u001B[0m\u001B[0ma\u001B[0m\u001B[0;34m,\u001B[0m \u001B[0mb\u001B[0m\u001B[0;34m)\u001B[0m\u001B[0;34m\u001B[0m\u001B[0;34m\u001B[0m\u001B[0m\n",
      "\u001B[0;32m/usr/local/lib/python3.9/site-packages/numpy/linalg/linalg.py\u001B[0m in \u001B[0;36m_assert_stacked_square\u001B[0;34m(*arrays)\u001B[0m\n\u001B[1;32m    202\u001B[0m         \u001B[0mm\u001B[0m\u001B[0;34m,\u001B[0m \u001B[0mn\u001B[0m \u001B[0;34m=\u001B[0m \u001B[0ma\u001B[0m\u001B[0;34m.\u001B[0m\u001B[0mshape\u001B[0m\u001B[0;34m[\u001B[0m\u001B[0;34m-\u001B[0m\u001B[0;36m2\u001B[0m\u001B[0;34m:\u001B[0m\u001B[0;34m]\u001B[0m\u001B[0;34m\u001B[0m\u001B[0;34m\u001B[0m\u001B[0m\n\u001B[1;32m    203\u001B[0m         \u001B[0;32mif\u001B[0m \u001B[0mm\u001B[0m \u001B[0;34m!=\u001B[0m \u001B[0mn\u001B[0m\u001B[0;34m:\u001B[0m\u001B[0;34m\u001B[0m\u001B[0;34m\u001B[0m\u001B[0m\n\u001B[0;32m--> 204\u001B[0;31m             \u001B[0;32mraise\u001B[0m \u001B[0mLinAlgError\u001B[0m\u001B[0;34m(\u001B[0m\u001B[0;34m'Last 2 dimensions of the array must be square'\u001B[0m\u001B[0;34m)\u001B[0m\u001B[0;34m\u001B[0m\u001B[0;34m\u001B[0m\u001B[0m\n\u001B[0m\u001B[1;32m    205\u001B[0m \u001B[0;34m\u001B[0m\u001B[0m\n\u001B[1;32m    206\u001B[0m \u001B[0;32mdef\u001B[0m \u001B[0m_assert_finite\u001B[0m\u001B[0;34m(\u001B[0m\u001B[0;34m*\u001B[0m\u001B[0marrays\u001B[0m\u001B[0;34m)\u001B[0m\u001B[0;34m:\u001B[0m\u001B[0;34m\u001B[0m\u001B[0;34m\u001B[0m\u001B[0m\n",
      "\u001B[0;31mLinAlgError\u001B[0m: Last 2 dimensions of the array must be square"
     ]
    }
   ],
   "source": [
    "b = np.array([1, 2, 3, 4, 5, 6])\n",
    "sol = find_solution(b)"
   ],
   "metadata": {
    "collapsed": false,
    "pycharm": {
     "name": "#%%\n"
    }
   }
  },
  {
   "cell_type": "markdown",
   "source": [
    "Goals for Week 4:\n",
    "\n",
    "- Find a counter example for the uniqueness of the support minimal solution, if it's possible.\n",
    "- If not try to derive a proof ro prove uniqueness or non-uniqueness of the support minimal solution.\n",
    "- If the solution is not unique, is there a particular property that relates them in a certain way, or are they seemingly random.\n",
    "- Think about an interpretation for what it means to have a unique solution in the polytope view.\n",
    "\n",
    "- Have a look at the proof "
   ],
   "metadata": {
    "collapsed": false,
    "pycharm": {
     "name": "#%% md\n"
    }
   }
  }
 ],
 "metadata": {
  "kernelspec": {
   "display_name": "Python 3",
   "language": "python",
   "name": "python3"
  },
  "language_info": {
   "codemirror_mode": {
    "name": "ipython",
    "version": 2
   },
   "file_extension": ".py",
   "mimetype": "text/x-python",
   "name": "python",
   "nbconvert_exporter": "python",
   "pygments_lexer": "ipython2",
   "version": "2.7.6"
  }
 },
 "nbformat": 4,
 "nbformat_minor": 0
}