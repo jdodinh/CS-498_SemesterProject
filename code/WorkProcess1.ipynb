{
 "cells": [
  {
   "cell_type": "code",
   "execution_count": 1,
   "outputs": [],
   "source": [
    "import itertools\n",
    "import math\n",
    "%reload_ext autoreload\n",
    "%autoreload 2"
   ],
   "metadata": {
    "collapsed": false,
    "pycharm": {
     "name": "#%%\n"
    }
   }
  },
  {
   "cell_type": "code",
   "execution_count": 54,
   "outputs": [],
   "source": [
    "import numpy as np\n",
    "import os\n",
    "import sys\n",
    "from time import perf_counter\n",
    "import matplotlib.pyplot as plt\n",
    "from helpers import *\n",
    "from tqdm import tqdm\n",
    "import random\n",
    "import pickle\n",
    "import math\n",
    "EPS = 1e-09"
   ],
   "metadata": {
    "collapsed": false,
    "pycharm": {
     "name": "#%%\n"
    }
   }
  },
  {
   "cell_type": "code",
   "execution_count": 4,
   "outputs": [
    {
     "data": {
      "text/plain": "'/Users/jdodinh/Dropbox/2 - SPRING 2022/CS-498 - Semester Project/code'"
     },
     "execution_count": 4,
     "metadata": {},
     "output_type": "execute_result"
    }
   ],
   "source": [
    "os.getcwd()"
   ],
   "metadata": {
    "collapsed": false,
    "pycharm": {
     "name": "#%%\n"
    }
   }
  },
  {
   "cell_type": "markdown",
   "source": [
    "# Log\n",
    "\n",
    "## Description of the problem\n",
    "\n",
    "We are interested in the problem involving complete $0/1$ matrices. Such a matrix is a $m \\times 2^m -1$, where the columns are all the distinct binary strings on $m$ bits. Given an integer vector $b$ we want to determine whether there exists a $(2^m -1)$- bit binary vector $\\mathbf{x}$ such that $\\mathbf{Ax}=\\mathbf{b}$.\n",
    "\n",
    "The problem can be divided into two parts: feasibility and solution. With feasibility, we want to explore whether given an integer vector $b$ i a solution exists (yes or no), and with the latter we wish to investigate the properties needed for solving the problem (i.e.: outputting the vector $x$\n",
    ".\n",
    "\n",
    "We wish to explore properties of the problem (or in particular the vector $b$) to determine partial solutions to the problem to reduce the general problem to simpler problems.\n"
   ],
   "metadata": {
    "collapsed": false
   }
  },
  {
   "cell_type": "markdown",
   "source": [
    "\n",
    "## Week 3\n",
    "\n",
    "It is easy to find a solution for a rhs of the form $\\mathbf{b} = [b \\quad ... \\quad b]$. Since each vector has a complement, we can simply choose $b$ vector complement pairs to build the solution. As a result we choose to simplify the problem and decompose it. For each potential right-hand side, we can find an $l \\geq 0$ such that $\\mathbf{b} = l \\cdot \\mathbf{1} + \\mathbf{u}$.\n",
    "\n",
    "We need to have that $\\mathbf{u}$ is minimal feasible solution with regards to the $l_{\\infty}$ norm, which implies that $\\mathbf{u} - \\mathbf{1}$ should not be feasible.\n",
    "\n",
    "We will therefore try to enumerate the set $U$ of vectors that are feasible and minimal with regards to the $l_{\\infty}$ norm. We will also try to find their minimal support solutions, and find if there is a case where more than one solution is possible.\n",
    "\n",
    "To find such vectors, we simply choose vectors one by one, and automatically remove their complement from consideration"
   ],
   "metadata": {
    "collapsed": false,
    "pycharm": {
     "name": "#%% md\n"
    }
   }
  },
  {
   "cell_type": "code",
   "execution_count": 5,
   "outputs": [
    {
     "name": "stdout",
     "output_type": "stream",
     "text": [
      "m = 4 \t Datatype = <class 'bool'>\n",
      "Time taken = 1.138267999998277 ms\n"
     ]
    }
   ],
   "source": [
    "m = 4\n",
    "dt = bool\n",
    "\n",
    "time_start = perf_counter()\n",
    "complete_mat = make_complete(m, dt=dt)\n",
    "time_stop = perf_counter()\n",
    "\n",
    "df = pd.DataFrame(complete_mat.astype(int))\n",
    "\n",
    "print(\"m =\", m, \"\\t Datatype =\", dt)\n",
    "print(\"Time taken =\", 1000*(time_stop-time_start), \"ms\")\n",
    "\n",
    "# print(df.to_string(header=False, index=False))"
   ],
   "metadata": {
    "collapsed": false,
    "pycharm": {
     "name": "#%%\n"
    }
   }
  },
  {
   "cell_type": "markdown",
   "source": [
    "It is useful to state some facts about the solution. Given a $\\mathbf{u}$ that is minimal feasible, we have that $\\mathbf{Ax} = l \\cdot \\mathbf{1} + \\mathbf{u}$. Then suppose that $\\mathbf{A\\hat{x}} = l \\cdot \\mathbf{1}$ and $\\mathbf{A\\tilde{x}} = \\mathbf{u}$. Then any vector from $A$ that is chosen to create $\\mathbf{u}$ cannot be a vector chosen to create $l \\cdot \\mathbf{1}$."
   ],
   "metadata": {
    "collapsed": false,
    "pycharm": {
     "name": "#%% md\n"
    }
   }
  },
  {
   "cell_type": "markdown",
   "source": [
    "Upon choosing columns of $\\mathbf{A}$ to enumerate the set $U$ we need to remember that this imposes a constraint on the number of complement pairs columns that can be chosen. Suppose $\\mathbf{u}$ is made of $k$ vectors. Since none of these columns sum up to $\\mathbf{1}$, in particular it doesn't contain any vector complement pairs."
   ],
   "metadata": {
    "collapsed": false
   }
  },
  {
   "cell_type": "markdown",
   "source": [
    "Suppose we have the given decomposition $\\mathbf{Ax} = k \\cdot \\mathbf{1} + \\mathbf{u}$. Then it must hold that at least $2k$ vectors are already chosen, in order to yield the $k \\cdot \\mathbf{1}$ vector. There are $\\binom{2^{m-1}}{k}$ ways of choosing those vectors, if only pairs are considered."
   ],
   "metadata": {
    "collapsed": false
   }
  },
  {
   "cell_type": "markdown",
   "source": [
    "TODO:\n",
    "\n",
    " - Investigate properties of vectors that add up to $\\mathbf{1}$\n",
    " - Given an integer $m$ find the number of minimal feasible vectors $\\mathbf{u}$ that can be created, and for each, one determine how many non minimal vectors are feasible\n",
    "    - Derive an enumeration technique"
   ],
   "metadata": {
    "collapsed": false,
    "pycharm": {
     "name": "#%% md\n"
    }
   }
  },
  {
   "cell_type": "markdown",
   "source": [
    "## Greedy algorithm for finding a solution"
   ],
   "metadata": {
    "collapsed": false,
    "pycharm": {
     "name": "#%% md\n"
    }
   }
  },
  {
   "cell_type": "code",
   "execution_count": 4,
   "outputs": [
    {
     "data": {
      "text/plain": "'/Users/jdodinh/Dropbox/2 - SPRING 2022/CS-498 - Semester Project/code'"
     },
     "execution_count": 4,
     "metadata": {},
     "output_type": "execute_result"
    }
   ],
   "source": [
    "b = np.array([0, 1, 2, 1])\n",
    "os.getcwd()\n",
    "\n",
    "# find_solution(b)"
   ],
   "metadata": {
    "collapsed": false,
    "pycharm": {
     "name": "#%%\n"
    }
   }
  },
  {
   "cell_type": "markdown",
   "source": [
    "Goals for Week 4:\n",
    "\n",
    "- Find a counter example for the uniqueness of the support minimal solution, if it's possible.\n",
    "- If not try to derive a proof ro prove uniqueness or non-uniqueness of the support minimal solution.\n",
    "- If the solution is not unique, is there a particular property that relates them in a certain way, or are they seemingly random.\n",
    "- Think about an interpretation for what it means to have a unique solution in the polytope view.\n",
    "\n",
    "- Have a look at the proof"
   ],
   "metadata": {
    "collapsed": false,
    "pycharm": {
     "name": "#%% md\n"
    }
   }
  },
  {
   "cell_type": "markdown",
   "source": [
    "### Idea\n",
    "\n",
    "We can try to formulate the support minimal solution as a linear programming problem. To this extent we way that $u$ is our minimal solution. Then it is possible to formulate the linear program as:\n",
    "$$\\min \\quad \\mathbf{1}^\\top \\mathbf{x} \\\\\n",
    " \\text{st} \\quad \\quad \\mathbf{Ax} = \\mathbf{b} \\\\\n",
    " \\quad \\quad \\quad  x \\in [0,1], \\forall x$$\n",
    "\n",
    "This is an idea for the further investivation of the problem. As we can see, we are only allowing to make sure that values chosen for $x$ are always between $0$ and $1$, which is a relaxation of the integer problem. On top of this, we impose that the linear combination of the chosen columns is always exactly the vector $\\mathbf{b}$. Also, the cost function makes sure that we simply choose the minimum number of columns."
   ],
   "metadata": {
    "collapsed": false,
    "pycharm": {
     "name": "#%% md\n"
    }
   }
  },
  {
   "cell_type": "markdown",
   "source": [
    "Meeting Notes:\n",
    "\n",
    " - Look at the relationship between the fractional solutions and the integer solutions. We may be interested if a fractional solution implies an integral solution, try to find a counterexample as a a good starting point.\n",
    " - If there exists a fractional sol $x$ then there exists a fractional solution $x'$ which has at most $m$ fractional entries. This may allow us to solve a smaller version of the problem with all the integral columns removed. Then the problem is not complete anymore, but it bounds the fractionality.\n",
    " - The fractionality is the largest number in the denominator for a fractional solution.\n",
    "\n",
    "Take any m columns we want, with fractional multiplicity, see if it is possible to construct an integral solution, such that this solution cannot be obtained using the complete matrix.\n",
    "\n",
    "CPLEX from IBM"
   ],
   "metadata": {
    "collapsed": false,
    "pycharm": {
     "name": "#%% md\n"
    }
   }
  },
  {
   "cell_type": "code",
   "execution_count": 6,
   "outputs": [],
   "source": [
    "b = np.array([0, 0, 9])\n",
    "splx_int_prog, var_int = splx_int(b)\n",
    "splx_rel_prog, var_rel = splx_rel(b)"
   ],
   "metadata": {
    "collapsed": false,
    "pycharm": {
     "name": "#%%\n"
    }
   }
  },
  {
   "cell_type": "code",
   "execution_count": 7,
   "outputs": [
    {
     "name": "stdout",
     "output_type": "stream",
     "text": [
      "Time to solve integer program = 0.005495458999998704\n",
      "Time to solve relaxation program = 0.002755248999999793\n"
     ]
    }
   ],
   "source": [
    "\n",
    "int_t1 = perf_counter()\n",
    "sol_int = splx_int_prog.solve()\n",
    "int_t2 = perf_counter()\n",
    "print(\"Time to solve integer program =\", int_t2-int_t1)\n",
    "\n",
    "rel_t1 = perf_counter()\n",
    "sol_rel = splx_rel_prog.solve()\n",
    "rel_t2 = perf_counter()\n",
    "print(\"Time to solve relaxation program =\", rel_t2-rel_t1)\n"
   ],
   "metadata": {
    "collapsed": false,
    "pycharm": {
     "name": "#%%\n"
    }
   }
  },
  {
   "cell_type": "code",
   "source": [
    "print(\"\\n##################################################\\n\"\n",
    "      \"################ INTEGER SOLUTION ################\\n\"\n",
    "      \"##################################################\\n\")\n",
    "\n",
    "splx_int_prog.print_solution()\n",
    "\n",
    "print(\"\\n##################################################\\n\"\n",
    "      \"############### RELAXATION SOLUTION ##############\\n\"\n",
    "      \"##################################################\\n\")\n",
    "\n",
    "splx_rel_prog.print_solution()"
   ],
   "metadata": {
    "collapsed": false,
    "pycharm": {
     "name": "#%%\n"
    }
   },
   "execution_count": 8,
   "outputs": [
    {
     "name": "stdout",
     "output_type": "stream",
     "text": [
      "\n",
      "##################################################\n",
      "################ INTEGER SOLUTION ################\n",
      "##################################################\n",
      "\n",
      "\n",
      "##################################################\n",
      "############### RELAXATION SOLUTION ##############\n",
      "##################################################\n",
      "\n"
     ]
    }
   ]
  },
  {
   "cell_type": "markdown",
   "source": [
    "There support minimal solution is not unique. This is demonstrated by the example when $\\mathbf{b} = [0 \\quad 1 \\quad 2 \\quad 1]$, which can be composed using two pairs of vectors. Namely $\\mathbf{u_1} = [0 \\quad 1 \\quad 1 \\quad 1]$ and $\\mathbf{u_2} = [0 \\quad 0 \\quad 1 \\quad 0]$ or  $\\mathbf{v_1} = [0 \\quad 1 \\quad 1 \\quad 0]$ and $\\mathbf{v_2} = [0 \\quad 0 \\quad 1 \\quad 1]$.\n",
    "\n",
    "This however is a particular version of the problem. Namely there is one $\\mathbf{0}$ entry. This allows us to consider a smaller problem where $m = 3$, by completely ignoring the given row. We can see that by doing so, we are left with a vector $\\mathbf{b} = [1 \\quad 2 \\quad 1]$ which can be decomposed into $\\mathbf{1}$ and $u = [0 \\quad 1 \\quad 0]$, l and therefore is not minimal feasible.\n",
    "\n",
    "Therefore to proceed further it would be good to find a support minimal solution that doesn't have any zero entries."
   ],
   "metadata": {
    "collapsed": false
   }
  },
  {
   "cell_type": "markdown",
   "source": [
    "To do this we will run an algorithm with $m = 4$, testing all possible combinations of the binary strings, while filtering for the ones that are maximal in their decomposition."
   ],
   "metadata": {
    "collapsed": false
   }
  },
  {
   "cell_type": "code",
   "execution_count": 45,
   "outputs": [
    {
     "name": "stderr",
     "output_type": "stream",
     "text": [
      "  0%|          | 395/2760681 [00:25<48:47:59, 15.71it/s]\n"
     ]
    },
    {
     "ename": "KeyboardInterrupt",
     "evalue": "",
     "output_type": "error",
     "traceback": [
      "\u001B[0;31m---------------------------------------------------------------------------\u001B[0m",
      "\u001B[0;31mKeyboardInterrupt\u001B[0m                         Traceback (most recent call last)",
      "\u001B[0;32m/var/folders/hv/fw_dfpnn41dbw73cgkhw78g00000gn/T/ipykernel_16384/140406791.py\u001B[0m in \u001B[0;36m<module>\u001B[0;34m\u001B[0m\n\u001B[1;32m      1\u001B[0m \u001B[0;32mfrom\u001B[0m \u001B[0mhelpers\u001B[0m \u001B[0;32mimport\u001B[0m \u001B[0;34m*\u001B[0m\u001B[0;34m\u001B[0m\u001B[0;34m\u001B[0m\u001B[0m\n\u001B[0;32m----> 2\u001B[0;31m \u001B[0mmin_feas\u001B[0m \u001B[0;34m=\u001B[0m \u001B[0mfind_min_feas2\u001B[0m\u001B[0;34m(\u001B[0m\u001B[0;36m6\u001B[0m\u001B[0;34m)\u001B[0m\u001B[0;34m\u001B[0m\u001B[0;34m\u001B[0m\u001B[0m\n\u001B[0m\u001B[1;32m      3\u001B[0m \u001B[0;31m# enumerate_frac(m)\u001B[0m\u001B[0;34m\u001B[0m\u001B[0;34m\u001B[0m\u001B[0;34m\u001B[0m\u001B[0m\n",
      "\u001B[0;32m~/Dropbox/2 - SPRING 2022/CS-498 - Semester Project/code/helpers.py\u001B[0m in \u001B[0;36mfind_min_feas2\u001B[0;34m(m)\u001B[0m\n\u001B[1;32m    182\u001B[0m         \u001B[0;31m# if (2**(m-1) in b): continue\u001B[0m\u001B[0;34m\u001B[0m\u001B[0;34m\u001B[0m\u001B[0;34m\u001B[0m\u001B[0m\n\u001B[1;32m    183\u001B[0m         \u001B[0mint_prog1\u001B[0m\u001B[0;34m,\u001B[0m \u001B[0mvars1\u001B[0m \u001B[0;34m=\u001B[0m \u001B[0msplx_int\u001B[0m\u001B[0;34m(\u001B[0m\u001B[0mA\u001B[0m\u001B[0;34m,\u001B[0m \u001B[0mb\u001B[0m\u001B[0;34m)\u001B[0m\u001B[0;34m\u001B[0m\u001B[0;34m\u001B[0m\u001B[0m\n\u001B[0;32m--> 184\u001B[0;31m         \u001B[0mint_prog2\u001B[0m\u001B[0;34m,\u001B[0m \u001B[0mvars2\u001B[0m \u001B[0;34m=\u001B[0m \u001B[0msplx_int\u001B[0m\u001B[0;34m(\u001B[0m\u001B[0mA\u001B[0m\u001B[0;34m,\u001B[0m \u001B[0mb\u001B[0m \u001B[0;34m-\u001B[0m \u001B[0mb_ones\u001B[0m\u001B[0;34m)\u001B[0m\u001B[0;34m\u001B[0m\u001B[0;34m\u001B[0m\u001B[0m\n\u001B[0m\u001B[1;32m    185\u001B[0m         \u001B[0;32mif\u001B[0m \u001B[0;34m(\u001B[0m\u001B[0mint_prog1\u001B[0m\u001B[0;34m.\u001B[0m\u001B[0msolve\u001B[0m\u001B[0;34m(\u001B[0m\u001B[0;34m)\u001B[0m \u001B[0;32mis\u001B[0m \u001B[0;32mnot\u001B[0m \u001B[0;32mNone\u001B[0m \u001B[0;32mand\u001B[0m \u001B[0mint_prog2\u001B[0m\u001B[0;34m.\u001B[0m\u001B[0msolve\u001B[0m\u001B[0;34m(\u001B[0m\u001B[0;34m)\u001B[0m \u001B[0;32mis\u001B[0m \u001B[0;32mNone\u001B[0m\u001B[0;34m)\u001B[0m\u001B[0;34m:\u001B[0m\u001B[0;34m\u001B[0m\u001B[0;34m\u001B[0m\u001B[0m\n\u001B[1;32m    186\u001B[0m             \u001B[0mmin_feas\u001B[0m\u001B[0;34m.\u001B[0m\u001B[0mappend\u001B[0m\u001B[0;34m(\u001B[0m\u001B[0mb\u001B[0m\u001B[0;34m)\u001B[0m\u001B[0;34m\u001B[0m\u001B[0;34m\u001B[0m\u001B[0m\n",
      "\u001B[0;32m~/Dropbox/2 - SPRING 2022/CS-498 - Semester Project/code/helpers.py\u001B[0m in \u001B[0;36msplx_int\u001B[0;34m(A, b)\u001B[0m\n\u001B[1;32m     62\u001B[0m         \u001B[0mmodel\u001B[0m\u001B[0;34m.\u001B[0m\u001B[0madd_constraint\u001B[0m\u001B[0;34m(\u001B[0m\u001B[0msum\u001B[0m\u001B[0;34m(\u001B[0m\u001B[0;34m[\u001B[0m\u001B[0mx\u001B[0m\u001B[0;34m[\u001B[0m\u001B[0mj\u001B[0m\u001B[0;34m]\u001B[0m\u001B[0;34m*\u001B[0m\u001B[0mA\u001B[0m\u001B[0;34m[\u001B[0m\u001B[0mi\u001B[0m\u001B[0;34m,\u001B[0m \u001B[0mj\u001B[0m\u001B[0;34m]\u001B[0m \u001B[0;32mfor\u001B[0m \u001B[0mj\u001B[0m \u001B[0;32min\u001B[0m \u001B[0mrange\u001B[0m\u001B[0;34m(\u001B[0m\u001B[0;36m2\u001B[0m\u001B[0;34m**\u001B[0m\u001B[0mm\u001B[0m\u001B[0;34m)\u001B[0m\u001B[0;34m]\u001B[0m\u001B[0;34m)\u001B[0m \u001B[0;34m==\u001B[0m \u001B[0mb\u001B[0m\u001B[0;34m[\u001B[0m\u001B[0mi\u001B[0m\u001B[0;34m]\u001B[0m\u001B[0;34m)\u001B[0m\u001B[0;34m\u001B[0m\u001B[0;34m\u001B[0m\u001B[0m\n\u001B[1;32m     63\u001B[0m \u001B[0;34m\u001B[0m\u001B[0m\n\u001B[0;32m---> 64\u001B[0;31m     \u001B[0mobj_fun\u001B[0m \u001B[0;34m=\u001B[0m \u001B[0msum\u001B[0m\u001B[0;34m(\u001B[0m\u001B[0mx\u001B[0m\u001B[0;34m)\u001B[0m\u001B[0;34m\u001B[0m\u001B[0;34m\u001B[0m\u001B[0m\n\u001B[0m\u001B[1;32m     65\u001B[0m     \u001B[0mmodel\u001B[0m\u001B[0;34m.\u001B[0m\u001B[0mset_objective\u001B[0m\u001B[0;34m(\u001B[0m\u001B[0;34m\"min\"\u001B[0m\u001B[0;34m,\u001B[0m \u001B[0mobj_fun\u001B[0m\u001B[0;34m)\u001B[0m\u001B[0;34m\u001B[0m\u001B[0;34m\u001B[0m\u001B[0m\n\u001B[1;32m     66\u001B[0m     \u001B[0;32mreturn\u001B[0m \u001B[0mmodel\u001B[0m\u001B[0;34m,\u001B[0m \u001B[0mx\u001B[0m\u001B[0;34m\u001B[0m\u001B[0;34m\u001B[0m\u001B[0m\n",
      "\u001B[0;32m/usr/local/lib/python3.9/site-packages/docplex/mp/linear.py\u001B[0m in \u001B[0;36m__add__\u001B[0;34m(self, e)\u001B[0m\n\u001B[1;32m   1047\u001B[0m         \u001B[0;32mreturn\u001B[0m \u001B[0mcloned\u001B[0m\u001B[0;34m\u001B[0m\u001B[0;34m\u001B[0m\u001B[0m\n\u001B[1;32m   1048\u001B[0m \u001B[0;34m\u001B[0m\u001B[0m\n\u001B[0;32m-> 1049\u001B[0;31m     \u001B[0;32mdef\u001B[0m \u001B[0m__add__\u001B[0m\u001B[0;34m(\u001B[0m\u001B[0mself\u001B[0m\u001B[0;34m,\u001B[0m \u001B[0me\u001B[0m\u001B[0;34m)\u001B[0m\u001B[0;34m:\u001B[0m\u001B[0;34m\u001B[0m\u001B[0;34m\u001B[0m\u001B[0m\n\u001B[0m\u001B[1;32m   1050\u001B[0m         \u001B[0;32mreturn\u001B[0m \u001B[0mself\u001B[0m\u001B[0;34m.\u001B[0m\u001B[0mplus\u001B[0m\u001B[0;34m(\u001B[0m\u001B[0me\u001B[0m\u001B[0;34m)\u001B[0m\u001B[0;34m\u001B[0m\u001B[0;34m\u001B[0m\u001B[0m\n\u001B[1;32m   1051\u001B[0m \u001B[0;34m\u001B[0m\u001B[0m\n",
      "\u001B[0;31mKeyboardInterrupt\u001B[0m: "
     ]
    }
   ],
   "source": [
    "from helpers import *\n",
    "min_feas = find_min_feas2(6)\n",
    "# enumerate_frac(m)"
   ],
   "metadata": {
    "collapsed": false,
    "pycharm": {
     "name": "#%%\n"
    }
   }
  },
  {
   "cell_type": "markdown",
   "source": [
    "Since the execution for $m=4$ took over 20 minutes, we save tha variable to a file."
   ],
   "metadata": {
    "collapsed": false,
    "pycharm": {
     "name": "#%% md\n"
    }
   }
  },
  {
   "cell_type": "code",
   "execution_count": 36,
   "outputs": [],
   "source": [
    "# with open(\"min_feas4.pkl\", \"wb\") as f:\n",
    "#     pickle.dump(min_feas, f)\n",
    "#     f.close()\n",
    "\n"
   ],
   "metadata": {
    "collapsed": false,
    "pycharm": {
     "name": "#%%\n"
    }
   }
  },
  {
   "cell_type": "markdown",
   "source": [
    "Find one solution, then penalize columns with a larger factor one by one to find another solution with the same number of columns."
   ],
   "metadata": {
    "collapsed": false,
    "pycharm": {
     "name": "#%% md\n"
    }
   }
  },
  {
   "cell_type": "code",
   "execution_count": 43,
   "outputs": [
    {
     "name": "stdout",
     "output_type": "stream",
     "text": [
      "Maximum gap = 4\n"
     ]
    }
   ],
   "source": [
    "pickle_in = open('min_feas4.pkl', 'rb')\n",
    "min_feas4 = pickle.load(pickle_in)\n",
    "pickle_in = open('min_feas5.pkl', 'rb')\n",
    "min_feas5 = pickle.load(pickle_in)\n",
    "\n",
    "m=4\n",
    "max_gap = 0\n",
    "for mf in min_feas4:\n",
    "    gap = np.max(mf)-np.min(mf)\n",
    "    if (gap>max_gap): max_gap = gap\n",
    "\n",
    "print(\"Maximum gap =\", max_gap)\n"
   ],
   "metadata": {
    "collapsed": false,
    "pycharm": {
     "name": "#%%\n"
    }
   }
  },
  {
   "cell_type": "code",
   "execution_count": 16,
   "outputs": [
    {
     "name": "stderr",
     "output_type": "stream",
     "text": [
      "  0%|          | 0/705 [00:28<?, ?it/s]\n"
     ]
    },
    {
     "ename": "KeyboardInterrupt",
     "evalue": "",
     "output_type": "error",
     "traceback": [
      "\u001B[0;31m---------------------------------------------------------------------------\u001B[0m",
      "\u001B[0;31mKeyboardInterrupt\u001B[0m                         Traceback (most recent call last)",
      "\u001B[0;32m/var/folders/hv/fw_dfpnn41dbw73cgkhw78g00000gn/T/ipykernel_30294/4225099315.py\u001B[0m in \u001B[0;36m<module>\u001B[0;34m\u001B[0m\n\u001B[1;32m      9\u001B[0m     \u001B[0mnon_zeros\u001B[0m \u001B[0;34m=\u001B[0m \u001B[0;34m[\u001B[0m\u001B[0;34m]\u001B[0m\u001B[0;34m\u001B[0m\u001B[0;34m\u001B[0m\u001B[0m\n\u001B[1;32m     10\u001B[0m     \u001B[0;32mfor\u001B[0m \u001B[0mi\u001B[0m \u001B[0;32min\u001B[0m \u001B[0mrange\u001B[0m\u001B[0;34m(\u001B[0m\u001B[0;36m2\u001B[0m\u001B[0;34m**\u001B[0m\u001B[0mm\u001B[0m\u001B[0;34m)\u001B[0m\u001B[0;34m:\u001B[0m\u001B[0;34m\u001B[0m\u001B[0;34m\u001B[0m\u001B[0m\n\u001B[0;32m---> 11\u001B[0;31m         \u001B[0mvarname\u001B[0m \u001B[0;34m=\u001B[0m \u001B[0mint_prog\u001B[0m\u001B[0;34m.\u001B[0m\u001B[0mget_var_by_index\u001B[0m\u001B[0;34m(\u001B[0m\u001B[0mi\u001B[0m\u001B[0;34m)\u001B[0m\u001B[0;34m\u001B[0m\u001B[0;34m\u001B[0m\u001B[0m\n\u001B[0m\u001B[1;32m     12\u001B[0m         \u001B[0mval\u001B[0m \u001B[0;34m=\u001B[0m \u001B[0mint\u001B[0m\u001B[0;34m(\u001B[0m\u001B[0mint_prog\u001B[0m\u001B[0;34m.\u001B[0m\u001B[0msolution\u001B[0m\u001B[0;34m.\u001B[0m\u001B[0mget_value\u001B[0m\u001B[0;34m(\u001B[0m\u001B[0mvarname\u001B[0m\u001B[0;34m)\u001B[0m\u001B[0;34m)\u001B[0m\u001B[0;34m\u001B[0m\u001B[0;34m\u001B[0m\u001B[0m\n\u001B[1;32m     13\u001B[0m         \u001B[0;32mif\u001B[0m \u001B[0mval\u001B[0m \u001B[0;34m==\u001B[0m \u001B[0;36m1\u001B[0m\u001B[0;34m:\u001B[0m\u001B[0;34m\u001B[0m\u001B[0;34m\u001B[0m\u001B[0m\n",
      "\u001B[0;32m/var/folders/hv/fw_dfpnn41dbw73cgkhw78g00000gn/T/ipykernel_30294/4225099315.py\u001B[0m in \u001B[0;36m<module>\u001B[0;34m\u001B[0m\n\u001B[1;32m      9\u001B[0m     \u001B[0mnon_zeros\u001B[0m \u001B[0;34m=\u001B[0m \u001B[0;34m[\u001B[0m\u001B[0;34m]\u001B[0m\u001B[0;34m\u001B[0m\u001B[0;34m\u001B[0m\u001B[0m\n\u001B[1;32m     10\u001B[0m     \u001B[0;32mfor\u001B[0m \u001B[0mi\u001B[0m \u001B[0;32min\u001B[0m \u001B[0mrange\u001B[0m\u001B[0;34m(\u001B[0m\u001B[0;36m2\u001B[0m\u001B[0;34m**\u001B[0m\u001B[0mm\u001B[0m\u001B[0;34m)\u001B[0m\u001B[0;34m:\u001B[0m\u001B[0;34m\u001B[0m\u001B[0;34m\u001B[0m\u001B[0m\n\u001B[0;32m---> 11\u001B[0;31m         \u001B[0mvarname\u001B[0m \u001B[0;34m=\u001B[0m \u001B[0mint_prog\u001B[0m\u001B[0;34m.\u001B[0m\u001B[0mget_var_by_index\u001B[0m\u001B[0;34m(\u001B[0m\u001B[0mi\u001B[0m\u001B[0;34m)\u001B[0m\u001B[0;34m\u001B[0m\u001B[0;34m\u001B[0m\u001B[0m\n\u001B[0m\u001B[1;32m     12\u001B[0m         \u001B[0mval\u001B[0m \u001B[0;34m=\u001B[0m \u001B[0mint\u001B[0m\u001B[0;34m(\u001B[0m\u001B[0mint_prog\u001B[0m\u001B[0;34m.\u001B[0m\u001B[0msolution\u001B[0m\u001B[0;34m.\u001B[0m\u001B[0mget_value\u001B[0m\u001B[0;34m(\u001B[0m\u001B[0mvarname\u001B[0m\u001B[0;34m)\u001B[0m\u001B[0;34m)\u001B[0m\u001B[0;34m\u001B[0m\u001B[0;34m\u001B[0m\u001B[0m\n\u001B[1;32m     13\u001B[0m         \u001B[0;32mif\u001B[0m \u001B[0mval\u001B[0m \u001B[0;34m==\u001B[0m \u001B[0;36m1\u001B[0m\u001B[0;34m:\u001B[0m\u001B[0;34m\u001B[0m\u001B[0;34m\u001B[0m\u001B[0m\n",
      "\u001B[0;32m_pydevd_bundle/pydevd_cython_darwin_39_64.pyx\u001B[0m in \u001B[0;36m_pydevd_bundle.pydevd_cython_darwin_39_64.SafeCallWrapper.__call__\u001B[0;34m()\u001B[0m\n",
      "\u001B[0;32m_pydevd_bundle/pydevd_cython_darwin_39_64.pyx\u001B[0m in \u001B[0;36m_pydevd_bundle.pydevd_cython_darwin_39_64.PyDBFrame.trace_dispatch\u001B[0;34m()\u001B[0m\n",
      "\u001B[0;32m_pydevd_bundle/pydevd_cython_darwin_39_64.pyx\u001B[0m in \u001B[0;36m_pydevd_bundle.pydevd_cython_darwin_39_64.PyDBFrame.trace_dispatch\u001B[0;34m()\u001B[0m\n",
      "\u001B[0;32m_pydevd_bundle/pydevd_cython_darwin_39_64.pyx\u001B[0m in \u001B[0;36m_pydevd_bundle.pydevd_cython_darwin_39_64.PyDBFrame.trace_dispatch\u001B[0;34m()\u001B[0m\n",
      "\u001B[0;32m/Applications/PyCharm.app/Contents/plugins/python/helpers-pro/jupyter_debug/pydev_jupyter_plugin.py\u001B[0m in \u001B[0;36mstop\u001B[0;34m(plugin, pydb, frame, event, args, stop_info, arg, step_cmd)\u001B[0m\n\u001B[1;32m    163\u001B[0m         \u001B[0mframe\u001B[0m \u001B[0;34m=\u001B[0m \u001B[0msuspend_jupyter\u001B[0m\u001B[0;34m(\u001B[0m\u001B[0mmain_debugger\u001B[0m\u001B[0;34m,\u001B[0m \u001B[0mthread\u001B[0m\u001B[0;34m,\u001B[0m \u001B[0mframe\u001B[0m\u001B[0;34m,\u001B[0m \u001B[0mstep_cmd\u001B[0m\u001B[0;34m)\u001B[0m\u001B[0;34m\u001B[0m\u001B[0;34m\u001B[0m\u001B[0m\n\u001B[1;32m    164\u001B[0m         \u001B[0;32mif\u001B[0m \u001B[0mframe\u001B[0m\u001B[0;34m:\u001B[0m\u001B[0;34m\u001B[0m\u001B[0;34m\u001B[0m\u001B[0m\n\u001B[0;32m--> 165\u001B[0;31m             \u001B[0mmain_debugger\u001B[0m\u001B[0;34m.\u001B[0m\u001B[0mdo_wait_suspend\u001B[0m\u001B[0;34m(\u001B[0m\u001B[0mthread\u001B[0m\u001B[0;34m,\u001B[0m \u001B[0mframe\u001B[0m\u001B[0;34m,\u001B[0m \u001B[0mevent\u001B[0m\u001B[0;34m,\u001B[0m \u001B[0marg\u001B[0m\u001B[0;34m)\u001B[0m\u001B[0;34m\u001B[0m\u001B[0;34m\u001B[0m\u001B[0m\n\u001B[0m\u001B[1;32m    166\u001B[0m             \u001B[0;32mreturn\u001B[0m \u001B[0;32mTrue\u001B[0m\u001B[0;34m\u001B[0m\u001B[0;34m\u001B[0m\u001B[0m\n\u001B[1;32m    167\u001B[0m     \u001B[0;32mreturn\u001B[0m \u001B[0;32mFalse\u001B[0m\u001B[0;34m\u001B[0m\u001B[0;34m\u001B[0m\u001B[0m\n",
      "\u001B[0;32m/Applications/PyCharm.app/Contents/plugins/python/helpers/pydev/pydevd.py\u001B[0m in \u001B[0;36mdo_wait_suspend\u001B[0;34m(self, thread, frame, event, arg, send_suspend_message, is_unhandled_exception)\u001B[0m\n\u001B[1;32m   1145\u001B[0m \u001B[0;34m\u001B[0m\u001B[0m\n\u001B[1;32m   1146\u001B[0m         \u001B[0;32mwith\u001B[0m \u001B[0mself\u001B[0m\u001B[0;34m.\u001B[0m\u001B[0m_threads_suspended_single_notification\u001B[0m\u001B[0;34m.\u001B[0m\u001B[0mnotify_thread_suspended\u001B[0m\u001B[0;34m(\u001B[0m\u001B[0mthread_id\u001B[0m\u001B[0;34m,\u001B[0m \u001B[0mstop_reason\u001B[0m\u001B[0;34m)\u001B[0m\u001B[0;34m:\u001B[0m\u001B[0;34m\u001B[0m\u001B[0;34m\u001B[0m\u001B[0m\n\u001B[0;32m-> 1147\u001B[0;31m             \u001B[0mself\u001B[0m\u001B[0;34m.\u001B[0m\u001B[0m_do_wait_suspend\u001B[0m\u001B[0;34m(\u001B[0m\u001B[0mthread\u001B[0m\u001B[0;34m,\u001B[0m \u001B[0mframe\u001B[0m\u001B[0;34m,\u001B[0m \u001B[0mevent\u001B[0m\u001B[0;34m,\u001B[0m \u001B[0marg\u001B[0m\u001B[0;34m,\u001B[0m \u001B[0msuspend_type\u001B[0m\u001B[0;34m,\u001B[0m \u001B[0mfrom_this_thread\u001B[0m\u001B[0;34m)\u001B[0m\u001B[0;34m\u001B[0m\u001B[0;34m\u001B[0m\u001B[0m\n\u001B[0m\u001B[1;32m   1148\u001B[0m \u001B[0;34m\u001B[0m\u001B[0m\n\u001B[1;32m   1149\u001B[0m     \u001B[0;32mdef\u001B[0m \u001B[0m_do_wait_suspend\u001B[0m\u001B[0;34m(\u001B[0m\u001B[0mself\u001B[0m\u001B[0;34m,\u001B[0m \u001B[0mthread\u001B[0m\u001B[0;34m,\u001B[0m \u001B[0mframe\u001B[0m\u001B[0;34m,\u001B[0m \u001B[0mevent\u001B[0m\u001B[0;34m,\u001B[0m \u001B[0marg\u001B[0m\u001B[0;34m,\u001B[0m \u001B[0msuspend_type\u001B[0m\u001B[0;34m,\u001B[0m \u001B[0mfrom_this_thread\u001B[0m\u001B[0;34m)\u001B[0m\u001B[0;34m:\u001B[0m\u001B[0;34m\u001B[0m\u001B[0;34m\u001B[0m\u001B[0m\n",
      "\u001B[0;32m/Applications/PyCharm.app/Contents/plugins/python/helpers/pydev/pydevd.py\u001B[0m in \u001B[0;36m_do_wait_suspend\u001B[0;34m(self, thread, frame, event, arg, suspend_type, from_this_thread)\u001B[0m\n\u001B[1;32m   1160\u001B[0m \u001B[0;34m\u001B[0m\u001B[0m\n\u001B[1;32m   1161\u001B[0m                 \u001B[0mself\u001B[0m\u001B[0;34m.\u001B[0m\u001B[0mprocess_internal_commands\u001B[0m\u001B[0;34m(\u001B[0m\u001B[0;34m)\u001B[0m\u001B[0;34m\u001B[0m\u001B[0;34m\u001B[0m\u001B[0m\n\u001B[0;32m-> 1162\u001B[0;31m                 \u001B[0mtime\u001B[0m\u001B[0;34m.\u001B[0m\u001B[0msleep\u001B[0m\u001B[0;34m(\u001B[0m\u001B[0;36m0.01\u001B[0m\u001B[0;34m)\u001B[0m\u001B[0;34m\u001B[0m\u001B[0;34m\u001B[0m\u001B[0m\n\u001B[0m\u001B[1;32m   1163\u001B[0m \u001B[0;34m\u001B[0m\u001B[0m\n\u001B[1;32m   1164\u001B[0m         \u001B[0mself\u001B[0m\u001B[0;34m.\u001B[0m\u001B[0mcancel_async_evaluation\u001B[0m\u001B[0;34m(\u001B[0m\u001B[0mget_current_thread_id\u001B[0m\u001B[0;34m(\u001B[0m\u001B[0mthread\u001B[0m\u001B[0;34m)\u001B[0m\u001B[0;34m,\u001B[0m \u001B[0mstr\u001B[0m\u001B[0;34m(\u001B[0m\u001B[0mid\u001B[0m\u001B[0;34m(\u001B[0m\u001B[0mframe\u001B[0m\u001B[0;34m)\u001B[0m\u001B[0;34m)\u001B[0m\u001B[0;34m)\u001B[0m\u001B[0;34m\u001B[0m\u001B[0;34m\u001B[0m\u001B[0m\n",
      "\u001B[0;31mKeyboardInterrupt\u001B[0m: "
     ]
    }
   ],
   "source": [
    "# from helpers import splx_int\n",
    "mult_min_feas = []\n",
    "for b_min in tqdm(min_feas):\n",
    "    # print(\"Testing minimality of vector: \", b_min, end=\"\\t\")\n",
    "    int_prog, vars = splx_int(b_min)\n",
    "    int_prog.solve()\n",
    "    # sol = int_prog.get_var_by_name('x')\n",
    "    values = {}\n",
    "    non_zeros = []\n",
    "    for i in range(2**m):\n",
    "        varname = int_prog.get_var_by_index(i)\n",
    "        val = int(int_prog.solution.get_value(varname))\n",
    "        if val == 1:\n",
    "            non_zeros.append(i)\n",
    "            values[str(varname)] = val\n",
    "    opt_val = int_prog.objective_value\n",
    "    # print(\"Optimal value is: \", opt_val)\n",
    "    w = np.ones(2**len(b_min))\n",
    "    for nz in non_zeros:\n",
    "        varname = int_prog.get_var_by_index(nz)\n",
    "        w[nz] = sys.maxsize\n",
    "        obj_fun = sum([w[i]*vars[i] for i in range(2**m)])\n",
    "        int_prog.set_objective(\"min\", obj_fun)\n",
    "        sol = int_prog.solve()\n",
    "        # print(\"\\t Penalizing variable \", varname, \"\\t New objective value = \", sol.objective_value)\n",
    "        if (sol.objective_value == opt_val):\n",
    "            mult_min_feas.append(b_min)\n",
    "            break\n",
    "            # print(\"FOUND A SECOND SUPPORT MINIMAL SOLUTION\")\n",
    "        w[nz] = 1\n",
    "        # int_prog\n",
    "\n",
    "print(\"Found\", len(mult_min_feas), \"rhs with >1 minimal solutions\")\n",
    "\n"
   ],
   "metadata": {
    "collapsed": false,
    "pycharm": {
     "name": "#%%\n"
    }
   }
  },
  {
   "cell_type": "code",
   "execution_count": 74,
   "outputs": [],
   "source": [
    "# n_sevens = []\n",
    "# for b in filt_sup_min:\n",
    "#     if 7 in b:\n",
    "#         n_sevens.append(b)"
   ],
   "metadata": {
    "collapsed": false,
    "pycharm": {
     "name": "#%%\n"
    }
   }
  },
  {
   "cell_type": "markdown",
   "source": [
    "Simple facts: There cannot exist a maximal decomposition such that $\\mathbf{b} = \\mathbf{u} + k\\mathbf{1}$ with $\\mathbf{u}$ containing the value $2^{m-1}$ inb one of it's entries. This is because, if this is the case, then $\\mathbf{u}$ must necessarily contain the $\\mathbf{1}$ vector, which contradicts the maximality of the decomposition.\n",
    "\n",
    "On the other hand, $\\mathbf{u}$ can contain only one extry of value $2^{m-1}-1$, in which case all of it's other values are $2^{m-2}-1$. This is because it forces $u$ to use up all the columns from one side of the matrix (except the 1 column), in which case using any other column would contradict maximality."
   ],
   "metadata": {
    "collapsed": false
   }
  },
  {
   "cell_type": "markdown",
   "source": [],
   "metadata": {
    "collapsed": false,
    "pycharm": {
     "name": "#%% md\n"
    }
   }
  },
  {
   "cell_type": "markdown",
   "source": [
    "# WEEK 6\n",
    "\n",
    "Possible proof: If an integral solution exists, then the relaxation of the linear program will output this solution."
   ],
   "metadata": {
    "collapsed": false,
    "pycharm": {
     "name": "#%% md\n"
    }
   }
  },
  {
   "cell_type": "code",
   "execution_count": 86,
   "outputs": [],
   "source": [
    "def n_supp_min(m, i):\n",
    "    return int(math.factorial((2**(m-1)-1))/math.factorial((2**(m-1)-1-i)) * m)\n",
    "    # return math.factorial(i)*m"
   ],
   "metadata": {
    "collapsed": false,
    "pycharm": {
     "name": "#%%\n"
    }
   }
  },
  {
   "cell_type": "code",
   "execution_count": 87,
   "outputs": [
    {
     "data": {
      "text/plain": "2080"
     },
     "execution_count": 87,
     "metadata": {},
     "output_type": "execute_result"
    }
   ],
   "source": [
    "sum = 0\n",
    "m = 4\n",
    "for i in range((2**(m-2))):\n",
    "    sum += n_supp_min(m, i)\n",
    "2* sum"
   ],
   "metadata": {
    "collapsed": false,
    "pycharm": {
     "name": "#%%\n"
    }
   }
  },
  {
   "cell_type": "markdown",
   "source": [
    "## Investigating multiple support minimal solutions"
   ],
   "metadata": {
    "collapsed": false,
    "pycharm": {
     "name": "#%% md\n"
    }
   }
  },
  {
   "cell_type": "code",
   "execution_count": 32,
   "outputs": [],
   "source": [
    "b = np.array([6, 4, 3, 2])\n",
    "int_prog, vars = splx_int(b)\n",
    "int_prog.parameters.mip.pool.intensity.set(4)\n",
    "int_prog.parameters.mip.pool.absgap.set(0)\n",
    "int_prog.parameters.mip.pool.relgap.set(0)\n",
    "int_prog.parameters.mip.limits.populate.set(2)\n",
    "sol_pool = int_prog.populate_solution_pool()\n",
    "\n",
    "\n"
   ],
   "metadata": {
    "collapsed": false,
    "pycharm": {
     "name": "#%%\n"
    }
   }
  },
  {
   "cell_type": "code",
   "execution_count": 21,
   "outputs": [
    {
     "name": "stderr",
     "output_type": "stream",
     "text": [
      " 16%|█▌        | 114/705 [00:04<00:21, 27.53it/s]\n"
     ]
    },
    {
     "ename": "KeyboardInterrupt",
     "evalue": "",
     "output_type": "error",
     "traceback": [
      "\u001B[0;31m---------------------------------------------------------------------------\u001B[0m",
      "\u001B[0;31mKeyboardInterrupt\u001B[0m                         Traceback (most recent call last)",
      "\u001B[0;32m/var/folders/hv/fw_dfpnn41dbw73cgkhw78g00000gn/T/ipykernel_40490/486819398.py\u001B[0m in \u001B[0;36m<module>\u001B[0;34m\u001B[0m\n\u001B[1;32m      7\u001B[0m \u001B[0mb_ones\u001B[0m \u001B[0;34m=\u001B[0m \u001B[0mnp\u001B[0m\u001B[0;34m.\u001B[0m\u001B[0mones\u001B[0m\u001B[0;34m(\u001B[0m\u001B[0mm\u001B[0m\u001B[0;34m,\u001B[0m \u001B[0mdtype\u001B[0m\u001B[0;34m=\u001B[0m\u001B[0mint\u001B[0m\u001B[0;34m)\u001B[0m\u001B[0;34m\u001B[0m\u001B[0;34m\u001B[0m\u001B[0m\n\u001B[1;32m      8\u001B[0m \u001B[0;32mfor\u001B[0m \u001B[0mb\u001B[0m \u001B[0;32min\u001B[0m \u001B[0mtqdm\u001B[0m\u001B[0;34m(\u001B[0m\u001B[0mmin_feas\u001B[0m\u001B[0;34m)\u001B[0m\u001B[0;34m:\u001B[0m\u001B[0;34m\u001B[0m\u001B[0;34m\u001B[0m\u001B[0m\n\u001B[0;32m----> 9\u001B[0;31m     \u001B[0mmodel\u001B[0m\u001B[0;34m,\u001B[0m \u001B[0msiz\u001B[0m \u001B[0;34m=\u001B[0m \u001B[0msplx_int_mult\u001B[0m\u001B[0;34m(\u001B[0m\u001B[0mA\u001B[0m\u001B[0;34m,\u001B[0m \u001B[0mb\u001B[0m\u001B[0;34m,\u001B[0m \u001B[0mname\u001B[0m\u001B[0;34m=\u001B[0m\u001B[0;34m\"test_prog\"\u001B[0m\u001B[0;34m)\u001B[0m\u001B[0;34m\u001B[0m\u001B[0;34m\u001B[0m\u001B[0m\n\u001B[0m\u001B[1;32m     10\u001B[0m     \u001B[0;32mif\u001B[0m \u001B[0msiz\u001B[0m\u001B[0;34m>\u001B[0m\u001B[0;36m1\u001B[0m\u001B[0;34m:\u001B[0m\u001B[0;34m\u001B[0m\u001B[0;34m\u001B[0m\u001B[0m\n\u001B[1;32m     11\u001B[0m         \u001B[0mmult_supp_min_sol_min_feas\u001B[0m\u001B[0;34m.\u001B[0m\u001B[0mappend\u001B[0m\u001B[0;34m(\u001B[0m\u001B[0mb\u001B[0m\u001B[0;34m)\u001B[0m\u001B[0;34m\u001B[0m\u001B[0;34m\u001B[0m\u001B[0m\n",
      "\u001B[0;32m~/Dropbox/2 - SPRING 2022/CS-498 - Semester Project/code/helpers.py\u001B[0m in \u001B[0;36msplx_int_mult\u001B[0;34m(A, b, name)\u001B[0m\n\u001B[1;32m     71\u001B[0m \u001B[0;32mdef\u001B[0m \u001B[0msplx_int_mult\u001B[0m\u001B[0;34m(\u001B[0m\u001B[0mA\u001B[0m\u001B[0;34m,\u001B[0m \u001B[0mb\u001B[0m\u001B[0;34m,\u001B[0m \u001B[0mname\u001B[0m\u001B[0;34m)\u001B[0m\u001B[0;34m:\u001B[0m\u001B[0;34m\u001B[0m\u001B[0;34m\u001B[0m\u001B[0m\n\u001B[1;32m     72\u001B[0m     \u001B[0mm\u001B[0m \u001B[0;34m=\u001B[0m \u001B[0mlen\u001B[0m\u001B[0;34m(\u001B[0m\u001B[0mb\u001B[0m\u001B[0;34m)\u001B[0m\u001B[0;34m\u001B[0m\u001B[0;34m\u001B[0m\u001B[0m\n\u001B[0;32m---> 73\u001B[0;31m     \u001B[0mmodel\u001B[0m \u001B[0;34m=\u001B[0m \u001B[0mModel\u001B[0m\u001B[0;34m(\u001B[0m\u001B[0mname\u001B[0m\u001B[0;34m=\u001B[0m\u001B[0mname\u001B[0m\u001B[0;34m)\u001B[0m\u001B[0;34m\u001B[0m\u001B[0;34m\u001B[0m\u001B[0m\n\u001B[0m\u001B[1;32m     74\u001B[0m     \u001B[0mx\u001B[0m \u001B[0;34m=\u001B[0m \u001B[0mmodel\u001B[0m\u001B[0;34m.\u001B[0m\u001B[0mbinary_var_list\u001B[0m\u001B[0;34m(\u001B[0m\u001B[0;34m(\u001B[0m\u001B[0;36m2\u001B[0m\u001B[0;34m**\u001B[0m\u001B[0mm\u001B[0m\u001B[0;34m)\u001B[0m\u001B[0;34m,\u001B[0m \u001B[0mname\u001B[0m\u001B[0;34m=\u001B[0m\u001B[0;34m\"x\"\u001B[0m\u001B[0;34m)\u001B[0m\u001B[0;34m\u001B[0m\u001B[0;34m\u001B[0m\u001B[0m\n\u001B[1;32m     75\u001B[0m     \u001B[0;32mfor\u001B[0m \u001B[0mi\u001B[0m \u001B[0;32min\u001B[0m \u001B[0mrange\u001B[0m\u001B[0;34m(\u001B[0m\u001B[0mm\u001B[0m\u001B[0;34m)\u001B[0m\u001B[0;34m:\u001B[0m\u001B[0;34m\u001B[0m\u001B[0;34m\u001B[0m\u001B[0m\n",
      "\u001B[0;32m/usr/local/lib/python3.9/site-packages/docplex/mp/model.py\u001B[0m in \u001B[0;36m__init__\u001B[0;34m(self, name, context, **kwargs)\u001B[0m\n\u001B[1;32m    467\u001B[0m \u001B[0;34m\u001B[0m\u001B[0m\n\u001B[1;32m    468\u001B[0m         \u001B[0;31m# init engine\u001B[0m\u001B[0;34m\u001B[0m\u001B[0;34m\u001B[0m\u001B[0;34m\u001B[0m\u001B[0m\n\u001B[0;32m--> 469\u001B[0;31m         \u001B[0mengine\u001B[0m \u001B[0;34m=\u001B[0m \u001B[0mself\u001B[0m\u001B[0;34m.\u001B[0m\u001B[0m_make_new_engine_from_agent\u001B[0m\u001B[0;34m(\u001B[0m\u001B[0mself\u001B[0m\u001B[0;34m.\u001B[0m\u001B[0msolver_agent\u001B[0m\u001B[0;34m,\u001B[0m \u001B[0mself\u001B[0m\u001B[0;34m.\u001B[0m\u001B[0mcontext\u001B[0m\u001B[0;34m)\u001B[0m\u001B[0;34m\u001B[0m\u001B[0;34m\u001B[0m\u001B[0m\n\u001B[0m\u001B[1;32m    470\u001B[0m         \u001B[0mself\u001B[0m\u001B[0;34m.\u001B[0m\u001B[0m__engine\u001B[0m \u001B[0;34m=\u001B[0m \u001B[0mengine\u001B[0m\u001B[0;34m\u001B[0m\u001B[0;34m\u001B[0m\u001B[0m\n\u001B[1;32m    471\u001B[0m \u001B[0;34m\u001B[0m\u001B[0m\n",
      "\u001B[0;32m/usr/local/lib/python3.9/site-packages/docplex/mp/model.py\u001B[0m in \u001B[0;36m_make_new_engine_from_agent\u001B[0;34m(self, solver_agent, context)\u001B[0m\n\u001B[1;32m   1053\u001B[0m \u001B[0;34m\u001B[0m\u001B[0m\n\u001B[1;32m   1054\u001B[0m     \u001B[0;32mdef\u001B[0m \u001B[0m_make_new_engine_from_agent\u001B[0m\u001B[0;34m(\u001B[0m\u001B[0mself\u001B[0m\u001B[0;34m,\u001B[0m \u001B[0msolver_agent\u001B[0m\u001B[0;34m,\u001B[0m \u001B[0mcontext\u001B[0m\u001B[0;34m)\u001B[0m\u001B[0;34m:\u001B[0m\u001B[0;34m\u001B[0m\u001B[0;34m\u001B[0m\u001B[0m\n\u001B[0;32m-> 1055\u001B[0;31m         \u001B[0mnew_engine\u001B[0m \u001B[0;34m=\u001B[0m \u001B[0mself\u001B[0m\u001B[0;34m.\u001B[0m\u001B[0m_engine_factory\u001B[0m\u001B[0;34m.\u001B[0m\u001B[0mnew_engine\u001B[0m\u001B[0;34m(\u001B[0m\u001B[0msolver_agent\u001B[0m\u001B[0;34m,\u001B[0m \u001B[0mself\u001B[0m\u001B[0;34m.\u001B[0m\u001B[0menvironment\u001B[0m\u001B[0;34m,\u001B[0m \u001B[0mmodel\u001B[0m\u001B[0;34m=\u001B[0m\u001B[0mself\u001B[0m\u001B[0;34m,\u001B[0m \u001B[0mcontext\u001B[0m\u001B[0;34m=\u001B[0m\u001B[0mcontext\u001B[0m\u001B[0;34m)\u001B[0m\u001B[0;34m\u001B[0m\u001B[0;34m\u001B[0m\u001B[0m\n\u001B[0m\u001B[1;32m   1056\u001B[0m         \u001B[0mnew_engine\u001B[0m\u001B[0;34m.\u001B[0m\u001B[0mset_streams\u001B[0m\u001B[0;34m(\u001B[0m\u001B[0mself\u001B[0m\u001B[0;34m.\u001B[0m\u001B[0mcontext\u001B[0m\u001B[0;34m.\u001B[0m\u001B[0msolver\u001B[0m\u001B[0;34m.\u001B[0m\u001B[0mlog_output_as_stream\u001B[0m\u001B[0;34m)\u001B[0m\u001B[0;34m\u001B[0m\u001B[0;34m\u001B[0m\u001B[0m\n\u001B[1;32m   1057\u001B[0m         \u001B[0;32mreturn\u001B[0m \u001B[0mnew_engine\u001B[0m\u001B[0;34m\u001B[0m\u001B[0;34m\u001B[0m\u001B[0m\n",
      "\u001B[0;32m/usr/local/lib/python3.9/site-packages/docplex/mp/engine_factory.py\u001B[0m in \u001B[0;36mnew_engine\u001B[0;34m(self, agent, env, model, context)\u001B[0m\n\u001B[1;32m    122\u001B[0m         \u001B[0;32massert\u001B[0m \u001B[0mengine_type\u001B[0m \u001B[0;32mis\u001B[0m \u001B[0;32mnot\u001B[0m \u001B[0;32mNone\u001B[0m\u001B[0;34m\u001B[0m\u001B[0;34m\u001B[0m\u001B[0m\n\u001B[1;32m    123\u001B[0m         \u001B[0;32mtry\u001B[0m\u001B[0;34m:\u001B[0m\u001B[0;34m\u001B[0m\u001B[0;34m\u001B[0m\u001B[0m\n\u001B[0;32m--> 124\u001B[0;31m             \u001B[0;32mreturn\u001B[0m \u001B[0mengine_type\u001B[0m\u001B[0;34m(\u001B[0m\u001B[0mmodel\u001B[0m\u001B[0;34m,\u001B[0m \u001B[0;34m**\u001B[0m\u001B[0mkwargs\u001B[0m\u001B[0;34m)\u001B[0m\u001B[0;34m\u001B[0m\u001B[0;34m\u001B[0m\u001B[0m\n\u001B[0m\u001B[1;32m    125\u001B[0m         \u001B[0;32mexcept\u001B[0m \u001B[0mTypeError\u001B[0m\u001B[0;34m:\u001B[0m\u001B[0;34m\u001B[0m\u001B[0;34m\u001B[0m\u001B[0m\n\u001B[1;32m    126\u001B[0m             \u001B[0mdocplex_fatal\u001B[0m\u001B[0;34m(\u001B[0m\u001B[0;34m\"agent: {0!s} failed to create instance from model, kwargs.\"\u001B[0m\u001B[0;34m,\u001B[0m \u001B[0magent\u001B[0m\u001B[0;34m)\u001B[0m\u001B[0;34m\u001B[0m\u001B[0;34m\u001B[0m\u001B[0m\n",
      "\u001B[0;32m/usr/local/lib/python3.9/site-packages/docplex/mp/cplex_engine.py\u001B[0m in \u001B[0;36m__init__\u001B[0;34m(self, mdl, **kwargs)\u001B[0m\n\u001B[1;32m    397\u001B[0m             \u001B[0mcoslocation\u001B[0m \u001B[0;34m=\u001B[0m \u001B[0mcontext\u001B[0m\u001B[0;34m.\u001B[0m\u001B[0mcos\u001B[0m\u001B[0;34m.\u001B[0m\u001B[0mlocation\u001B[0m\u001B[0;34m\u001B[0m\u001B[0;34m\u001B[0m\u001B[0m\n\u001B[1;32m    398\u001B[0m \u001B[0;34m\u001B[0m\u001B[0m\n\u001B[0;32m--> 399\u001B[0;31m         \u001B[0mcpx_adapter\u001B[0m \u001B[0;34m=\u001B[0m \u001B[0mCplexAdapter\u001B[0m\u001B[0;34m(\u001B[0m\u001B[0mcoslocation\u001B[0m\u001B[0;34m,\u001B[0m \u001B[0mprocedural\u001B[0m\u001B[0;34m=\u001B[0m\u001B[0mself\u001B[0m\u001B[0;34m.\u001B[0m\u001B[0mprocedural\u001B[0m\u001B[0;34m)\u001B[0m\u001B[0;34m\u001B[0m\u001B[0;34m\u001B[0m\u001B[0m\n\u001B[0m\u001B[1;32m    400\u001B[0m         \u001B[0mself\u001B[0m\u001B[0;34m.\u001B[0m\u001B[0mcpx_adapter\u001B[0m \u001B[0;34m=\u001B[0m \u001B[0mcpx_adapter\u001B[0m\u001B[0;34m\u001B[0m\u001B[0;34m\u001B[0m\u001B[0m\n\u001B[1;32m    401\u001B[0m \u001B[0;34m\u001B[0m\u001B[0m\n",
      "\u001B[0;32m/usr/local/lib/python3.9/site-packages/docplex/mp/cplex_adapter.py\u001B[0m in \u001B[0;36m__init__\u001B[0;34m(self, coslocation, procedural)\u001B[0m\n\u001B[1;32m     49\u001B[0m     \u001B[0;32mdef\u001B[0m \u001B[0m__init__\u001B[0m\u001B[0;34m(\u001B[0m\u001B[0mself\u001B[0m\u001B[0;34m,\u001B[0m \u001B[0mcoslocation\u001B[0m\u001B[0;34m=\u001B[0m\u001B[0;32mNone\u001B[0m\u001B[0;34m,\u001B[0m \u001B[0mprocedural\u001B[0m\u001B[0;34m=\u001B[0m\u001B[0;32mTrue\u001B[0m\u001B[0;34m)\u001B[0m\u001B[0;34m:\u001B[0m\u001B[0;34m\u001B[0m\u001B[0;34m\u001B[0m\u001B[0m\n\u001B[1;32m     50\u001B[0m         \u001B[0mself\u001B[0m\u001B[0;34m.\u001B[0m\u001B[0mprocedural\u001B[0m \u001B[0;34m=\u001B[0m \u001B[0mprocedural\u001B[0m\u001B[0;34m\u001B[0m\u001B[0;34m\u001B[0m\u001B[0m\n\u001B[0;32m---> 51\u001B[0;31m         \u001B[0menv\u001B[0m \u001B[0;34m=\u001B[0m \u001B[0mEnvironment\u001B[0m\u001B[0;34m(\u001B[0m\u001B[0;34m)\u001B[0m\u001B[0;34m\u001B[0m\u001B[0;34m\u001B[0m\u001B[0m\n\u001B[0m\u001B[1;32m     52\u001B[0m         \u001B[0;31m# get the CPLEX module from specified location\u001B[0m\u001B[0;34m\u001B[0m\u001B[0;34m\u001B[0m\u001B[0;34m\u001B[0m\u001B[0m\n\u001B[1;32m     53\u001B[0m         \u001B[0mcplex_module\u001B[0m \u001B[0;34m=\u001B[0m \u001B[0menv\u001B[0m\u001B[0;34m.\u001B[0m\u001B[0mget_cplex_module\u001B[0m\u001B[0;34m(\u001B[0m\u001B[0mcoslocation\u001B[0m\u001B[0;34m)\u001B[0m\u001B[0;34m\u001B[0m\u001B[0;34m\u001B[0m\u001B[0m\n",
      "\u001B[0;32m/usr/local/lib/python3.9/site-packages/docplex/mp/environment.py\u001B[0m in \u001B[0;36m__init__\u001B[0;34m(self, start_auto_configure, logger)\u001B[0m\n\u001B[1;32m     78\u001B[0m         \u001B[0mself\u001B[0m\u001B[0;34m.\u001B[0m\u001B[0m_system\u001B[0m \u001B[0;34m=\u001B[0m \u001B[0mplatform\u001B[0m\u001B[0;34m.\u001B[0m\u001B[0msystem\u001B[0m\u001B[0;34m(\u001B[0m\u001B[0;34m)\u001B[0m\u001B[0;34m\u001B[0m\u001B[0;34m\u001B[0m\u001B[0m\n\u001B[1;32m     79\u001B[0m         \u001B[0mself\u001B[0m\u001B[0;34m.\u001B[0m\u001B[0m_machine\u001B[0m \u001B[0;34m=\u001B[0m \u001B[0mplatform\u001B[0m\u001B[0;34m.\u001B[0m\u001B[0mmachine\u001B[0m\u001B[0;34m(\u001B[0m\u001B[0;34m)\u001B[0m\u001B[0;34m\u001B[0m\u001B[0;34m\u001B[0m\u001B[0m\n\u001B[0;32m---> 80\u001B[0;31m         \u001B[0mself\u001B[0m\u001B[0;34m.\u001B[0m\u001B[0m_bitness\u001B[0m \u001B[0;34m=\u001B[0m \u001B[0mplatform\u001B[0m\u001B[0;34m.\u001B[0m\u001B[0marchitecture\u001B[0m\u001B[0;34m(\u001B[0m\u001B[0;34m)\u001B[0m\u001B[0;34m[\u001B[0m\u001B[0;36m0\u001B[0m\u001B[0;34m]\u001B[0m\u001B[0;34m\u001B[0m\u001B[0;34m\u001B[0m\u001B[0m\n\u001B[0m\u001B[1;32m     81\u001B[0m         \u001B[0mself\u001B[0m\u001B[0;34m.\u001B[0m\u001B[0m_is64bit\u001B[0m \u001B[0;34m=\u001B[0m \u001B[0msys\u001B[0m\u001B[0;34m.\u001B[0m\u001B[0mmaxsize\u001B[0m \u001B[0;34m>\u001B[0m \u001B[0;36m2\u001B[0m \u001B[0;34m**\u001B[0m \u001B[0;36m32\u001B[0m\u001B[0;34m\u001B[0m\u001B[0;34m\u001B[0m\u001B[0m\n\u001B[1;32m     82\u001B[0m \u001B[0;34m\u001B[0m\u001B[0m\n",
      "\u001B[0;32m/usr/local/Cellar/python@3.9/3.9.1_6/Frameworks/Python.framework/Versions/3.9/lib/python3.9/platform.py\u001B[0m in \u001B[0;36marchitecture\u001B[0;34m(executable, bits, linkage)\u001B[0m\n\u001B[1;32m    676\u001B[0m     \u001B[0;31m# Get data from the 'file' system command\u001B[0m\u001B[0;34m\u001B[0m\u001B[0;34m\u001B[0m\u001B[0;34m\u001B[0m\u001B[0m\n\u001B[1;32m    677\u001B[0m     \u001B[0;32mif\u001B[0m \u001B[0mexecutable\u001B[0m\u001B[0;34m:\u001B[0m\u001B[0;34m\u001B[0m\u001B[0;34m\u001B[0m\u001B[0m\n\u001B[0;32m--> 678\u001B[0;31m         \u001B[0mfileout\u001B[0m \u001B[0;34m=\u001B[0m \u001B[0m_syscmd_file\u001B[0m\u001B[0;34m(\u001B[0m\u001B[0mexecutable\u001B[0m\u001B[0;34m,\u001B[0m \u001B[0;34m''\u001B[0m\u001B[0;34m)\u001B[0m\u001B[0;34m\u001B[0m\u001B[0;34m\u001B[0m\u001B[0m\n\u001B[0m\u001B[1;32m    679\u001B[0m     \u001B[0;32melse\u001B[0m\u001B[0;34m:\u001B[0m\u001B[0;34m\u001B[0m\u001B[0;34m\u001B[0m\u001B[0m\n\u001B[1;32m    680\u001B[0m         \u001B[0mfileout\u001B[0m \u001B[0;34m=\u001B[0m \u001B[0;34m''\u001B[0m\u001B[0;34m\u001B[0m\u001B[0;34m\u001B[0m\u001B[0m\n",
      "\u001B[0;32m/usr/local/Cellar/python@3.9/3.9.1_6/Frameworks/Python.framework/Versions/3.9/lib/python3.9/platform.py\u001B[0m in \u001B[0;36m_syscmd_file\u001B[0;34m(target, default)\u001B[0m\n\u001B[1;32m    625\u001B[0m     \u001B[0;32mtry\u001B[0m\u001B[0;34m:\u001B[0m\u001B[0;34m\u001B[0m\u001B[0;34m\u001B[0m\u001B[0m\n\u001B[1;32m    626\u001B[0m         \u001B[0;31m# -b: do not prepend filenames to output lines (brief mode)\u001B[0m\u001B[0;34m\u001B[0m\u001B[0;34m\u001B[0m\u001B[0;34m\u001B[0m\u001B[0m\n\u001B[0;32m--> 627\u001B[0;31m         output = subprocess.check_output(['file', '-b', target],\n\u001B[0m\u001B[1;32m    628\u001B[0m                                          \u001B[0mstderr\u001B[0m\u001B[0;34m=\u001B[0m\u001B[0msubprocess\u001B[0m\u001B[0;34m.\u001B[0m\u001B[0mDEVNULL\u001B[0m\u001B[0;34m,\u001B[0m\u001B[0;34m\u001B[0m\u001B[0;34m\u001B[0m\u001B[0m\n\u001B[1;32m    629\u001B[0m                                          env=env)\n",
      "\u001B[0;32m/usr/local/Cellar/python@3.9/3.9.1_6/Frameworks/Python.framework/Versions/3.9/lib/python3.9/subprocess.py\u001B[0m in \u001B[0;36mcheck_output\u001B[0;34m(timeout, *popenargs, **kwargs)\u001B[0m\n\u001B[1;32m    418\u001B[0m         \u001B[0mkwargs\u001B[0m\u001B[0;34m[\u001B[0m\u001B[0;34m'input'\u001B[0m\u001B[0;34m]\u001B[0m \u001B[0;34m=\u001B[0m \u001B[0;34m''\u001B[0m \u001B[0;32mif\u001B[0m \u001B[0mkwargs\u001B[0m\u001B[0;34m.\u001B[0m\u001B[0mget\u001B[0m\u001B[0;34m(\u001B[0m\u001B[0;34m'universal_newlines'\u001B[0m\u001B[0;34m,\u001B[0m \u001B[0;32mFalse\u001B[0m\u001B[0;34m)\u001B[0m \u001B[0;32melse\u001B[0m \u001B[0;34mb''\u001B[0m\u001B[0;34m\u001B[0m\u001B[0;34m\u001B[0m\u001B[0m\n\u001B[1;32m    419\u001B[0m \u001B[0;34m\u001B[0m\u001B[0m\n\u001B[0;32m--> 420\u001B[0;31m     return run(*popenargs, stdout=PIPE, timeout=timeout, check=True,\n\u001B[0m\u001B[1;32m    421\u001B[0m                **kwargs).stdout\n\u001B[1;32m    422\u001B[0m \u001B[0;34m\u001B[0m\u001B[0m\n",
      "\u001B[0;32m/usr/local/Cellar/python@3.9/3.9.1_6/Frameworks/Python.framework/Versions/3.9/lib/python3.9/subprocess.py\u001B[0m in \u001B[0;36mrun\u001B[0;34m(input, capture_output, timeout, check, *popenargs, **kwargs)\u001B[0m\n\u001B[1;32m    499\u001B[0m         \u001B[0mkwargs\u001B[0m\u001B[0;34m[\u001B[0m\u001B[0;34m'stderr'\u001B[0m\u001B[0;34m]\u001B[0m \u001B[0;34m=\u001B[0m \u001B[0mPIPE\u001B[0m\u001B[0;34m\u001B[0m\u001B[0;34m\u001B[0m\u001B[0m\n\u001B[1;32m    500\u001B[0m \u001B[0;34m\u001B[0m\u001B[0m\n\u001B[0;32m--> 501\u001B[0;31m     \u001B[0;32mwith\u001B[0m \u001B[0mPopen\u001B[0m\u001B[0;34m(\u001B[0m\u001B[0;34m*\u001B[0m\u001B[0mpopenargs\u001B[0m\u001B[0;34m,\u001B[0m \u001B[0;34m**\u001B[0m\u001B[0mkwargs\u001B[0m\u001B[0;34m)\u001B[0m \u001B[0;32mas\u001B[0m \u001B[0mprocess\u001B[0m\u001B[0;34m:\u001B[0m\u001B[0;34m\u001B[0m\u001B[0;34m\u001B[0m\u001B[0m\n\u001B[0m\u001B[1;32m    502\u001B[0m         \u001B[0;32mtry\u001B[0m\u001B[0;34m:\u001B[0m\u001B[0;34m\u001B[0m\u001B[0;34m\u001B[0m\u001B[0m\n\u001B[1;32m    503\u001B[0m             \u001B[0mstdout\u001B[0m\u001B[0;34m,\u001B[0m \u001B[0mstderr\u001B[0m \u001B[0;34m=\u001B[0m \u001B[0mprocess\u001B[0m\u001B[0;34m.\u001B[0m\u001B[0mcommunicate\u001B[0m\u001B[0;34m(\u001B[0m\u001B[0minput\u001B[0m\u001B[0;34m,\u001B[0m \u001B[0mtimeout\u001B[0m\u001B[0;34m=\u001B[0m\u001B[0mtimeout\u001B[0m\u001B[0;34m)\u001B[0m\u001B[0;34m\u001B[0m\u001B[0;34m\u001B[0m\u001B[0m\n",
      "\u001B[0;32m/usr/local/Cellar/python@3.9/3.9.1_6/Frameworks/Python.framework/Versions/3.9/lib/python3.9/subprocess.py\u001B[0m in \u001B[0;36m__init__\u001B[0;34m(self, args, bufsize, executable, stdin, stdout, stderr, preexec_fn, close_fds, shell, cwd, env, universal_newlines, startupinfo, creationflags, restore_signals, start_new_session, pass_fds, user, group, extra_groups, encoding, errors, text, umask)\u001B[0m\n\u001B[1;32m    945\u001B[0m                             encoding=encoding, errors=errors)\n\u001B[1;32m    946\u001B[0m \u001B[0;34m\u001B[0m\u001B[0m\n\u001B[0;32m--> 947\u001B[0;31m             self._execute_child(args, executable, preexec_fn, close_fds,\n\u001B[0m\u001B[1;32m    948\u001B[0m                                 \u001B[0mpass_fds\u001B[0m\u001B[0;34m,\u001B[0m \u001B[0mcwd\u001B[0m\u001B[0;34m,\u001B[0m \u001B[0menv\u001B[0m\u001B[0;34m,\u001B[0m\u001B[0;34m\u001B[0m\u001B[0;34m\u001B[0m\u001B[0m\n\u001B[1;32m    949\u001B[0m                                 \u001B[0mstartupinfo\u001B[0m\u001B[0;34m,\u001B[0m \u001B[0mcreationflags\u001B[0m\u001B[0;34m,\u001B[0m \u001B[0mshell\u001B[0m\u001B[0;34m,\u001B[0m\u001B[0;34m\u001B[0m\u001B[0;34m\u001B[0m\u001B[0m\n",
      "\u001B[0;32m/usr/local/Cellar/python@3.9/3.9.1_6/Frameworks/Python.framework/Versions/3.9/lib/python3.9/subprocess.py\u001B[0m in \u001B[0;36m_execute_child\u001B[0;34m(self, args, executable, preexec_fn, close_fds, pass_fds, cwd, env, startupinfo, creationflags, shell, p2cread, p2cwrite, c2pread, c2pwrite, errread, errwrite, restore_signals, gid, gids, uid, umask, start_new_session)\u001B[0m\n\u001B[1;32m   1773\u001B[0m                 \u001B[0merrpipe_data\u001B[0m \u001B[0;34m=\u001B[0m \u001B[0mbytearray\u001B[0m\u001B[0;34m(\u001B[0m\u001B[0;34m)\u001B[0m\u001B[0;34m\u001B[0m\u001B[0;34m\u001B[0m\u001B[0m\n\u001B[1;32m   1774\u001B[0m                 \u001B[0;32mwhile\u001B[0m \u001B[0;32mTrue\u001B[0m\u001B[0;34m:\u001B[0m\u001B[0;34m\u001B[0m\u001B[0;34m\u001B[0m\u001B[0m\n\u001B[0;32m-> 1775\u001B[0;31m                     \u001B[0mpart\u001B[0m \u001B[0;34m=\u001B[0m \u001B[0mos\u001B[0m\u001B[0;34m.\u001B[0m\u001B[0mread\u001B[0m\u001B[0;34m(\u001B[0m\u001B[0merrpipe_read\u001B[0m\u001B[0;34m,\u001B[0m \u001B[0;36m50000\u001B[0m\u001B[0;34m)\u001B[0m\u001B[0;34m\u001B[0m\u001B[0;34m\u001B[0m\u001B[0m\n\u001B[0m\u001B[1;32m   1776\u001B[0m                     \u001B[0merrpipe_data\u001B[0m \u001B[0;34m+=\u001B[0m \u001B[0mpart\u001B[0m\u001B[0;34m\u001B[0m\u001B[0;34m\u001B[0m\u001B[0m\n\u001B[1;32m   1777\u001B[0m                     \u001B[0;32mif\u001B[0m \u001B[0;32mnot\u001B[0m \u001B[0mpart\u001B[0m \u001B[0;32mor\u001B[0m \u001B[0mlen\u001B[0m\u001B[0;34m(\u001B[0m\u001B[0merrpipe_data\u001B[0m\u001B[0;34m)\u001B[0m \u001B[0;34m>\u001B[0m \u001B[0;36m50000\u001B[0m\u001B[0;34m:\u001B[0m\u001B[0;34m\u001B[0m\u001B[0;34m\u001B[0m\u001B[0m\n",
      "\u001B[0;31mKeyboardInterrupt\u001B[0m: "
     ]
    }
   ],
   "source": [
    "from helpers import *\n",
    "m = 4\n",
    "mult_supp_min_sol_min_feas = []\n",
    "A = make_complete(m, bool).astype(int)\n",
    "A_sh = A[:,1:-1]\n",
    "x_counter = np.zeros(2**m-2, dtype=int)\n",
    "b_ones = np.ones(m, dtype=int)\n",
    "for b in tqdm(min_feas):\n",
    "    model, siz = splx_int_mult(A, b, name=\"test_prog\")\n",
    "    if siz>1:\n",
    "        mult_supp_min_sol_min_feas.append(b)"
   ],
   "metadata": {
    "collapsed": false,
    "pycharm": {
     "name": "#%%\n"
    }
   }
  },
  {
   "cell_type": "markdown",
   "source": [
    "## Investigating Fractional Solutions\n",
    "\n",
    "Fractional solutions don't imply integral solutions.\n"
   ],
   "metadata": {
    "collapsed": false,
    "pycharm": {
     "name": "#%% md\n"
    }
   }
  },
  {
   "cell_type": "markdown",
   "source": [
    "Looking for counter example of fractional solution not implying integer solution"
   ],
   "metadata": {
    "collapsed": false,
    "pycharm": {
     "name": "#%% md\n"
    }
   }
  },
  {
   "cell_type": "code",
   "execution_count": 19,
   "outputs": [
    {
     "name": "stderr",
     "output_type": "stream",
     "text": [
      "100%|██████████| 16384/16384 [09:32<00:00, 28.60it/s]\n"
     ]
    }
   ],
   "source": [
    "def find_min_feas(m):\n",
    "    frac = []\n",
    "    A = make_complete(m, bool).astype(int)\n",
    "    A_sh = A[:,1:-1]\n",
    "    b_counter = np.zeros(2**m-2, dtype=int)\n",
    "    b_ones = np.ones(m, dtype=int)\n",
    "    for i in tqdm(range(2**(2**m-2))):\n",
    "        binary = np.array(list(bin(i).replace(\"0b\", \"\")), dtype=int)\n",
    "        b_counter[2**m-2-len(binary):] = binary\n",
    "        b = A_sh@b_counter\n",
    "        int_prog, vars = splx_int(A, b-b_ones)\n",
    "        if (int_prog.solve() is None):\n",
    "            rel_prog, x = splx_rel(A, b-b_ones)\n",
    "            if ((rel_prog.solve() is not None) and np.all(b > 0)):\n",
    "                # print(\"Found fractional solution, but no integer solution\")\n",
    "                rel_prog.print_solution()\n",
    "                break\n",
    "\n",
    "    return frac\n",
    "\n",
    "fr = find_min_feas(4)"
   ],
   "metadata": {
    "collapsed": false,
    "pycharm": {
     "name": "#%%\n"
    }
   }
  },
  {
   "cell_type": "code",
   "execution_count": 14,
   "outputs": [
    {
     "name": "stdout",
     "output_type": "stream",
     "text": [
      "(3, 5)\n",
      "[[0 1]\n",
      " [1 0]\n",
      " [1 1]]\n",
      "objective: 6\n",
      "  x_2=1\n",
      "  x_3=1\n",
      "  x_4=1\n",
      "  x_5=1\n",
      "  x_6=1\n",
      "  x_7=1\n"
     ]
    }
   ],
   "source": [
    "import itertools\n",
    "m = 3\n",
    "A = make_complete(3, int)\n",
    "A_sh = A[:, 1:]\n",
    "ind = np.arange(0, 7)\n",
    "max = 2**(m-1)*np.ones(m, dtype=int)\n",
    "for comb in itertools.combinations(ind, 2):\n",
    "    subsets = A[:, comb]\n",
    "    summ = np.sum(subsets, axis=1)\n",
    "    if np.all(summ==1): # If there is an exact set cover\n",
    "        continue\n",
    "    else:\n",
    "        b = max - summ + np.ones(m, dtype=int)\n",
    "        prog, x = splx_int(A, b)\n",
    "        if (prog.solve() is not None):\n",
    "            print(comb)\n",
    "            print(subsets)\n",
    "            prog.print_solution()\n",
    "            break\n",
    "\n"
   ],
   "metadata": {
    "collapsed": false,
    "pycharm": {
     "name": "#%%\n"
    }
   }
  },
  {
   "cell_type": "code",
   "execution_count": 42,
   "outputs": [
    {
     "name": "stderr",
     "output_type": "stream",
     "text": [
      "  0%|          | 753727/1291467969 [00:25<12:02:01, 29793.77it/s]\n"
     ]
    },
    {
     "ename": "KeyboardInterrupt",
     "evalue": "",
     "output_type": "error",
     "traceback": [
      "\u001B[0;31m---------------------------------------------------------------------------\u001B[0m",
      "\u001B[0;31mKeyboardInterrupt\u001B[0m                         Traceback (most recent call last)",
      "\u001B[0;32m/var/folders/hv/fw_dfpnn41dbw73cgkhw78g00000gn/T/ipykernel_66030/1448682351.py\u001B[0m in \u001B[0;36m<module>\u001B[0;34m\u001B[0m\n\u001B[1;32m      7\u001B[0m     \u001B[0mb_conv\u001B[0m \u001B[0;34m=\u001B[0m \u001B[0mnumberToBase\u001B[0m\u001B[0;34m(\u001B[0m\u001B[0mi\u001B[0m\u001B[0;34m,\u001B[0m\u001B[0mbase\u001B[0m\u001B[0;34m)\u001B[0m\u001B[0;34m\u001B[0m\u001B[0;34m\u001B[0m\u001B[0m\n\u001B[1;32m      8\u001B[0m     \u001B[0mb\u001B[0m\u001B[0;34m[\u001B[0m\u001B[0mm\u001B[0m\u001B[0;34m-\u001B[0m\u001B[0mlen\u001B[0m\u001B[0;34m(\u001B[0m\u001B[0mb_conv\u001B[0m\u001B[0;34m)\u001B[0m\u001B[0;34m:\u001B[0m\u001B[0;34m]\u001B[0m \u001B[0;34m=\u001B[0m \u001B[0mb_conv\u001B[0m\u001B[0;34m\u001B[0m\u001B[0;34m\u001B[0m\u001B[0m\n\u001B[0;32m----> 9\u001B[0;31m     \u001B[0;32mif\u001B[0m \u001B[0;34m(\u001B[0m\u001B[0mnp\u001B[0m\u001B[0;34m.\u001B[0m\u001B[0mall\u001B[0m\u001B[0;34m(\u001B[0m\u001B[0mb\u001B[0m\u001B[0;34m[\u001B[0m\u001B[0;34m:\u001B[0m\u001B[0;34m-\u001B[0m\u001B[0;36m1\u001B[0m\u001B[0;34m]\u001B[0m \u001B[0;34m>=\u001B[0m \u001B[0mb\u001B[0m\u001B[0;34m[\u001B[0m\u001B[0;36m1\u001B[0m\u001B[0;34m:\u001B[0m\u001B[0;34m]\u001B[0m\u001B[0;34m)\u001B[0m\u001B[0;34m)\u001B[0m\u001B[0;34m:\u001B[0m\u001B[0;34m\u001B[0m\u001B[0;34m\u001B[0m\u001B[0m\n\u001B[0m\u001B[1;32m     10\u001B[0m         \u001B[0mint_prog\u001B[0m\u001B[0;34m,\u001B[0m \u001B[0mx_int\u001B[0m \u001B[0;34m=\u001B[0m \u001B[0msplx_int\u001B[0m\u001B[0;34m(\u001B[0m\u001B[0mA\u001B[0m\u001B[0;34m,\u001B[0m \u001B[0mb\u001B[0m\u001B[0;34m)\u001B[0m\u001B[0;34m\u001B[0m\u001B[0;34m\u001B[0m\u001B[0m\n\u001B[1;32m     11\u001B[0m         \u001B[0mrel_prog\u001B[0m\u001B[0;34m,\u001B[0m \u001B[0mx_rel\u001B[0m \u001B[0;34m=\u001B[0m \u001B[0msplx_rel\u001B[0m\u001B[0;34m(\u001B[0m\u001B[0mA\u001B[0m\u001B[0;34m,\u001B[0m \u001B[0mb\u001B[0m\u001B[0;34m)\u001B[0m\u001B[0;34m\u001B[0m\u001B[0;34m\u001B[0m\u001B[0m\n",
      "\u001B[0;32m<__array_function__ internals>\u001B[0m in \u001B[0;36mall\u001B[0;34m(*args, **kwargs)\u001B[0m\n",
      "\u001B[0;32m/usr/local/lib/python3.9/site-packages/numpy/core/fromnumeric.py\u001B[0m in \u001B[0;36mall\u001B[0;34m(a, axis, out, keepdims)\u001B[0m\n\u001B[1;32m   2409\u001B[0m \u001B[0;34m\u001B[0m\u001B[0m\n\u001B[1;32m   2410\u001B[0m     \"\"\"\n\u001B[0;32m-> 2411\u001B[0;31m     \u001B[0;32mreturn\u001B[0m \u001B[0m_wrapreduction\u001B[0m\u001B[0;34m(\u001B[0m\u001B[0ma\u001B[0m\u001B[0;34m,\u001B[0m \u001B[0mnp\u001B[0m\u001B[0;34m.\u001B[0m\u001B[0mlogical_and\u001B[0m\u001B[0;34m,\u001B[0m \u001B[0;34m'all'\u001B[0m\u001B[0;34m,\u001B[0m \u001B[0maxis\u001B[0m\u001B[0;34m,\u001B[0m \u001B[0;32mNone\u001B[0m\u001B[0;34m,\u001B[0m \u001B[0mout\u001B[0m\u001B[0;34m,\u001B[0m \u001B[0mkeepdims\u001B[0m\u001B[0;34m=\u001B[0m\u001B[0mkeepdims\u001B[0m\u001B[0;34m)\u001B[0m\u001B[0;34m\u001B[0m\u001B[0;34m\u001B[0m\u001B[0m\n\u001B[0m\u001B[1;32m   2412\u001B[0m \u001B[0;34m\u001B[0m\u001B[0m\n\u001B[1;32m   2413\u001B[0m \u001B[0;34m\u001B[0m\u001B[0m\n",
      "\u001B[0;32m/usr/local/lib/python3.9/site-packages/numpy/core/fromnumeric.py\u001B[0m in \u001B[0;36m_wrapreduction\u001B[0;34m(obj, ufunc, method, axis, dtype, out, **kwargs)\u001B[0m\n\u001B[1;32m     69\u001B[0m \u001B[0;34m\u001B[0m\u001B[0m\n\u001B[1;32m     70\u001B[0m \u001B[0;32mdef\u001B[0m \u001B[0m_wrapreduction\u001B[0m\u001B[0;34m(\u001B[0m\u001B[0mobj\u001B[0m\u001B[0;34m,\u001B[0m \u001B[0mufunc\u001B[0m\u001B[0;34m,\u001B[0m \u001B[0mmethod\u001B[0m\u001B[0;34m,\u001B[0m \u001B[0maxis\u001B[0m\u001B[0;34m,\u001B[0m \u001B[0mdtype\u001B[0m\u001B[0;34m,\u001B[0m \u001B[0mout\u001B[0m\u001B[0;34m,\u001B[0m \u001B[0;34m**\u001B[0m\u001B[0mkwargs\u001B[0m\u001B[0;34m)\u001B[0m\u001B[0;34m:\u001B[0m\u001B[0;34m\u001B[0m\u001B[0;34m\u001B[0m\u001B[0m\n\u001B[0;32m---> 71\u001B[0;31m     passkwargs = {k: v for k, v in kwargs.items()\n\u001B[0m\u001B[1;32m     72\u001B[0m                   if v is not np._NoValue}\n\u001B[1;32m     73\u001B[0m \u001B[0;34m\u001B[0m\u001B[0m\n",
      "\u001B[0;31mKeyboardInterrupt\u001B[0m: "
     ]
    }
   ],
   "source": [
    "m = 6\n",
    "A = make_complete(m, int)\n",
    "A_sh = A[:, 1:]\n",
    "b = np.zeros(m, dtype=int)\n",
    "base = 2**(m-1)+1\n",
    "for i in tqdm(range(base**m)):\n",
    "    b_conv = numberToBase(i,base)\n",
    "    b[m-len(b_conv):] = b_conv\n",
    "    if (np.all(b[:-1] >= b[1:])):\n",
    "        int_prog, x_int = splx_int(A, b)\n",
    "        rel_prog, x_rel = splx_rel(A, b)\n",
    "        if (int_prog.solve() is None):\n",
    "            if rel_prog.solve() is not None:\n",
    "                print(\"Found counterexample!\", b)"
   ],
   "metadata": {
    "collapsed": false,
    "pycharm": {
     "name": "#%%\n"
    }
   }
  },
  {
   "cell_type": "code",
   "execution_count": 5,
   "outputs": [
    {
     "name": "stdout",
     "output_type": "stream",
     "text": [
      "4\n",
      "Number of sorted arrays for m = 1 is 3\n",
      "Length of enumerated is 3\n",
      "Number of sorted arrays for m = 2 is 10\n",
      "Length of enumerated is 10\n",
      "Number of sorted arrays for m = 3 is 56\n",
      "Length of enumerated is 56\n",
      "Number of sorted arrays for m = 4 is 715\n",
      "Length of enumerated is 715\n",
      "Number of sorted arrays for m = 5 is 26334\n",
      "Length of enumerated is 26334\n"
     ]
    }
   ],
   "source": [
    "for m in range(1, 6):\n",
    "    print(\"Number of sorted arrays for m =\", m, \"is\", countSortedArrays(2**(m-1)+2, m))\n",
    "    enumerated = enumerateSorted(2**(m-1)+1, m)\n",
    "    print(\"Length of enumerated is\", len(enumerated))\n",
    "\n",
    "# m=1\n",
    "# enumerateSorted(2**(m-1)+1, m)"
   ],
   "metadata": {
    "collapsed": false,
    "pycharm": {
     "name": "#%%\n"
    }
   }
  },
  {
   "cell_type": "markdown",
   "source": [
    "## Week 11\n",
    "Trying to enumerate guesses, below is code for trying the simplex program without the objective function"
   ],
   "metadata": {
    "collapsed": false,
    "pycharm": {
     "name": "#%% md\n"
    }
   }
  },
  {
   "cell_type": "code",
   "execution_count": 86,
   "outputs": [],
   "source": [
    "from helpers import *\n",
    "b = np.array([16, 16, 16, 16, 15])\n",
    "m = len(b)\n",
    "A = make_complete(m, int)[:, 1:]\n",
    "IP, vars = splx_IP_mult(A, b)"
   ],
   "metadata": {
    "collapsed": false,
    "pycharm": {
     "name": "#%%\n"
    }
   }
  },
  {
   "cell_type": "code",
   "source": [
    "pool = IP.populate_solution_pool()\n",
    "pool.size"
   ],
   "metadata": {
    "collapsed": false,
    "pycharm": {
     "name": "#%%\n"
    }
   },
   "execution_count": 87,
   "outputs": [
    {
     "data": {
      "text/plain": "1"
     },
     "execution_count": 87,
     "metadata": {},
     "output_type": "execute_result"
    }
   ]
  },
  {
   "cell_type": "markdown",
   "source": [
    "### Question 1\n",
    "We try to find the number of solutions in general for $\\mathbf{1}\\cdot 2^{m-3}\\leq b \\leq \\mathbf{1}\\cdot 2^{m-2}$"
   ],
   "metadata": {
    "collapsed": false,
    "pycharm": {
     "name": "#%% md\n"
    }
   }
  },
  {
   "cell_type": "code",
   "execution_count": 64,
   "outputs": [
    {
     "name": "stderr",
     "output_type": "stream",
     "text": [
      "100%|██████████| 81/81 [00:00<00:00, 11324.24it/s]"
     ]
    },
    {
     "name": "stdout",
     "output_type": "stream",
     "text": [
      "[4 4 4 4]\n",
      "[4 4 4 3]\n",
      "[4 4 4 2]\n",
      "[4 4 3 3]\n",
      "[4 4 3 2]\n",
      "[4 4 2 2]\n",
      "[4 3 3 3]\n",
      "[4 3 3 2]\n",
      "[4 3 2 2]\n",
      "[4 2 2 2]\n",
      "[3 3 3 3]\n",
      "[3 3 3 2]\n",
      "[3 3 2 2]\n",
      "[3 2 2 2]\n",
      "[2 2 2 2]\n"
     ]
    },
    {
     "name": "stderr",
     "output_type": "stream",
     "text": [
      "\n"
     ]
    }
   ],
   "source": [
    "m = 4\n",
    "unsc_ub = 2**(m-2) - 2**(m-3) + 1 # base for our counting, which will be scaled by the vector filled with 2**(m-3)\n",
    "b_up = 2**(m-2) * np.ones(m, dtype=int)\n",
    "b_counter = np.zeros(m, dtype=int)\n",
    "sol_dict = {}\n",
    "A = make_complete(m, int)[:, 1:]\n",
    "for i in tqdm(range(unsc_ub**m)):\n",
    "    b_conv = numberToBase(i,unsc_ub)\n",
    "    b_counter[m-len(b_conv):] = b_conv\n",
    "    b = b_up-b_counter\n",
    "    if (np.all(b[:-1] >= b[1:])):\n",
    "        print(b)\n",
    "        # IP, vars = splx_IP_mult(A, b)\n",
    "        # pool = IP.populate_solution_pool()  ## This is the buggy version\n",
    "        # if pool.size in sol_dict:\n",
    "        #     sol_dict[pool.size].append(b)\n",
    "        # else:\n",
    "        #     sol_dict[pool.size] = [b]\n",
    "        # break"
   ],
   "metadata": {
    "collapsed": false,
    "pycharm": {
     "name": "#%%\n"
    }
   }
  },
  {
   "cell_type": "code",
   "execution_count": 33,
   "outputs": [
    {
     "data": {
      "text/plain": "<BarContainer object of 68 artists>"
     },
     "execution_count": 33,
     "metadata": {},
     "output_type": "execute_result"
    },
    {
     "data": {
      "text/plain": "<Figure size 432x288 with 1 Axes>",
      "image/png": "[encoded data removed]"
     },
     "metadata": {
      "needs_background": "light"
     },
     "output_type": "display_data"
    }
   ],
   "source": [
    "# plt.bar(guesses.keys(), guesses.values())"
   ],
   "metadata": {
    "collapsed": false,
    "pycharm": {
     "name": "#%%\n"
    }
   }
  },
  {
   "cell_type": "code",
   "execution_count": 79,
   "outputs": [],
   "source": [
    "# with open(\"./ComputationalResults/guess_hist_\"+ str(m) +\".pkl\", \"wb\") as f:\n",
    "#     pickle.dump(sol_dict, f)\n",
    "#     f.close()"
   ],
   "metadata": {
    "collapsed": false,
    "pycharm": {
     "name": "#%%\n"
    }
   }
  },
  {
   "cell_type": "code",
   "execution_count": 25,
   "outputs": [
    {
     "name": "stdout",
     "output_type": "stream",
     "text": [
      "4\n"
     ]
    }
   ],
   "source": [
    "m = 6\n",
    "pickle_in = open('./ComputationalResults/guess_hist_'+str(m)+'.pkl', 'rb')\n",
    "guesses = pickle.load(pickle_in)"
   ],
   "metadata": {
    "collapsed": false,
    "pycharm": {
     "name": "#%%\n"
    }
   }
  },
  {
   "cell_type": "markdown",
   "source": [
    "Testing size of a suppost in a support minimal solution for a scaled $k$ vector. With $k = 2^{m-2}$"
   ],
   "metadata": {
    "collapsed": false,
    "pycharm": {
     "name": "#%% md\n"
    }
   }
  },
  {
   "cell_type": "code",
   "execution_count": 56,
   "outputs": [],
   "source": [
    "m = 2\n",
    "# A = make_complete(m, int)[:, 1:]\n",
    "b = 2**(m-2)*np.ones(m)\n",
    "\n",
    "sols = [[m, splx_int(2**(m-3)*np.ones(m))[0].solve().objective_value, splx_int(2**(m-2)*np.ones(m))[0].solve().objective_value] for m in range(3, 10)]\n",
    "\n",
    "sols_trunc = [[m, splx_int_trunc(2**(m-3)*np.ones(m))[0].solve().objective_value, splx_int_trunc(2**(m-2)*np.ones(m))[0].solve().objective_value] for m in range(3, 10)]"
   ],
   "metadata": {
    "collapsed": false,
    "pycharm": {
     "name": "#%%\n"
    }
   }
  },
  {
   "cell_type": "code",
   "execution_count": 60,
   "outputs": [
    {
     "data": {
      "text/plain": "array([[  3.,   1.,   3.],\n       [  4.,   3.,   5.],\n       [  5.,   5.,  11.],\n       [  6.,  10.,  22.],\n       [  7.,  21.,  47.],\n       [  8.,  42.,  93.],\n       [  9.,  87., 193.]])"
     },
     "execution_count": 60,
     "metadata": {},
     "output_type": "execute_result"
    }
   ],
   "source": [
    "np.array(sols)"
   ],
   "metadata": {
    "collapsed": false,
    "pycharm": {
     "name": "#%%\n"
    }
   }
  },
  {
   "cell_type": "code",
   "execution_count": null,
   "outputs": [],
   "source": [],
   "metadata": {
    "collapsed": false,
    "pycharm": {
     "name": "#%%\n"
    }
   }
  }
 ],
 "metadata": {
  "kernelspec": {
   "display_name": "Python 3",
   "language": "python",
   "name": "python3"
  },
  "language_info": {
   "codemirror_mode": {
    "name": "ipython",
    "version": 2
   },
   "file_extension": ".py",
   "mimetype": "text/x-python",
   "name": "python",
   "nbconvert_exporter": "python",
   "pygments_lexer": "ipython2",
   "version": "2.7.6"
  }
 },
 "nbformat": 4,
 "nbformat_minor": 0
}